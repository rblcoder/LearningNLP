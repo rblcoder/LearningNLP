{
 "cells": [
  {
   "cell_type": "markdown",
   "metadata": {},
   "source": [
    "Learning from Coursera Course https://www.coursera.org/learn/natural-language-processing-tensorflow/\n",
    "https://github.com/lmoroney/dlaicourse/tree/master/TensorFlow%20In%20Practice/Course%203%20-%20NLP"
   ]
  },
  {
   "cell_type": "markdown",
   "metadata": {},
   "source": [
    "Dataset from https://web.eecs.umich.edu/~lahiri/gutenberg_dataset.html\n",
    "\n",
    "@InProceedings{lahiri:2014:SRW,\n",
    "\n",
    "author = {Lahiri, Shibamouli},\n",
    "\n",
    "title = {{Complexity of Word Collocation Networks: A Preliminary Structural Analysis}},\n",
    "\n",
    "booktitle = {Proceedings of the Student Research Workshop at the 14th Conference of the European Chapter of the Association for Computational Linguistics},\n",
    "\n",
    "month = {April},\n",
    "\n",
    "year = {2014},\n",
    "\n",
    "address = {Gothenburg, Sweden},\n",
    "\n",
    "publisher = {Association for Computational Linguistics},\n",
    "\n",
    "pages = {96--105},\n",
    "\n",
    "url = {http://www.aclweb.org/anthology/E14-3011}\n",
    "\n",
    "}"
   ]
  },
  {
   "cell_type": "code",
   "execution_count": 1,
   "metadata": {},
   "outputs": [],
   "source": [
    "PATH_TO_TXT = \"txt/\""
   ]
  },
  {
   "cell_type": "code",
   "execution_count": 53,
   "metadata": {},
   "outputs": [],
   "source": [
    "import glob\n",
    "import numpy as np"
   ]
  },
  {
   "cell_type": "code",
   "execution_count": 55,
   "metadata": {},
   "outputs": [],
   "source": [
    "from sklearn.model_selection import train_test_split"
   ]
  },
  {
   "cell_type": "code",
   "execution_count": 2,
   "metadata": {},
   "outputs": [],
   "source": [
    "from tensorflow.keras.preprocessing.text import Tokenizer\n",
    "from tensorflow.keras.preprocessing.sequence import pad_sequences"
   ]
  },
  {
   "cell_type": "code",
   "execution_count": 3,
   "metadata": {},
   "outputs": [],
   "source": [
    "f = open(PATH_TO_TXT+'Abraham Lincoln___Lincoln Letters.txt')"
   ]
  },
  {
   "cell_type": "code",
   "execution_count": 4,
   "metadata": {},
   "outputs": [],
   "source": [
    "text = f.readlines()"
   ]
  },
  {
   "cell_type": "code",
   "execution_count": 5,
   "metadata": {},
   "outputs": [],
   "source": [
    "f.close()"
   ]
  },
  {
   "cell_type": "code",
   "execution_count": 6,
   "metadata": {},
   "outputs": [
    {
     "data": {
      "text/plain": [
       "161"
      ]
     },
     "execution_count": 6,
     "metadata": {},
     "output_type": "execute_result"
    }
   ],
   "source": [
    "len(text)"
   ]
  },
  {
   "cell_type": "code",
   "execution_count": 7,
   "metadata": {},
   "outputs": [
    {
     "data": {
      "text/plain": [
       "'LINCOLN LETTERS\\n'"
      ]
     },
     "execution_count": 7,
     "metadata": {},
     "output_type": "execute_result"
    }
   ],
   "source": [
    "text[1]"
   ]
  },
  {
   "cell_type": "code",
   "execution_count": 8,
   "metadata": {},
   "outputs": [
    {
     "name": "stdout",
     "output_type": "stream",
     "text": [
      "400\n"
     ]
    }
   ],
   "source": [
    "tokenizer = Tokenizer(oov_token=\"<OOV>\")\n",
    "tokenizer.fit_on_texts(text)\n",
    "word_index = tokenizer.word_index\n",
    "print(len(word_index))"
   ]
  },
  {
   "cell_type": "code",
   "execution_count": 9,
   "metadata": {},
   "outputs": [
    {
     "data": {
      "text/plain": [
       "[('<OOV>', 1),\n",
       " ('you', 2),\n",
       " ('the', 3),\n",
       " ('to', 4),\n",
       " ('and', 5),\n",
       " ('i', 6),\n",
       " ('in', 7),\n",
       " ('it', 8),\n",
       " ('a', 9),\n",
       " ('of', 10)]"
      ]
     },
     "execution_count": 9,
     "metadata": {},
     "output_type": "execute_result"
    }
   ],
   "source": [
    "list(word_index.items())[:10]"
   ]
  },
  {
   "cell_type": "code",
   "execution_count": 10,
   "metadata": {},
   "outputs": [],
   "source": [
    "sequences = tokenizer.texts_to_sequences(text)"
   ]
  },
  {
   "cell_type": "code",
   "execution_count": 11,
   "metadata": {},
   "outputs": [
    {
     "data": {
      "text/plain": [
       "[28, 79]"
      ]
     },
     "execution_count": 11,
     "metadata": {},
     "output_type": "execute_result"
    }
   ],
   "source": [
    "sequences[1]"
   ]
  },
  {
   "cell_type": "code",
   "execution_count": 38,
   "metadata": {},
   "outputs": [],
   "source": [
    "padded = pad_sequences(sequences, padding='post', truncating='post', maxlen=100)"
   ]
  },
  {
   "cell_type": "code",
   "execution_count": 39,
   "metadata": {},
   "outputs": [
    {
     "data": {
      "text/plain": [
       "array([28, 79,  0,  0,  0,  0,  0,  0,  0,  0,  0,  0,  0,  0,  0,  0,  0,\n",
       "        0,  0,  0,  0,  0,  0,  0,  0,  0,  0,  0,  0,  0,  0,  0,  0,  0,\n",
       "        0,  0,  0,  0,  0,  0,  0,  0,  0,  0,  0,  0,  0,  0,  0,  0,  0,\n",
       "        0,  0,  0,  0,  0,  0,  0,  0,  0,  0,  0,  0,  0,  0,  0,  0,  0,\n",
       "        0,  0,  0,  0,  0,  0,  0,  0,  0,  0,  0,  0,  0,  0,  0,  0,  0,\n",
       "        0,  0,  0,  0,  0,  0,  0,  0,  0,  0,  0,  0,  0,  0,  0],\n",
       "      dtype=int32)"
      ]
     },
     "execution_count": 39,
     "metadata": {},
     "output_type": "execute_result"
    }
   ],
   "source": [
    "padded[1]"
   ]
  },
  {
   "cell_type": "code",
   "execution_count": 40,
   "metadata": {},
   "outputs": [
    {
     "data": {
      "text/plain": [
       "(161, 100)"
      ]
     },
     "execution_count": 40,
     "metadata": {},
     "output_type": "execute_result"
    }
   ],
   "source": [
    "padded.shape"
   ]
  },
  {
   "cell_type": "code",
   "execution_count": 41,
   "metadata": {},
   "outputs": [],
   "source": [
    "def tokenize_books_from_author(author):\n",
    "    author_files = glob.glob(PATH_TO_TXT+author+'*')\n",
    "    texts = []\n",
    "    for filename in author_files:\n",
    "        print(filename)\n",
    "        with open(filename) as f:\n",
    "            text = ''.join(f.readlines())\n",
    "            f.close()\n",
    "        texts.append(text)    \n",
    "        #print(len(text))\n",
    "    print(len(texts))\n",
    "    tokenizer = Tokenizer(oov_token=\"<OOV>\")\n",
    "    tokenizer.fit_on_texts(texts)\n",
    "    word_index = tokenizer.word_index\n",
    "    print(len(word_index))\n",
    "       # print(top_topic_from_book(filename))"
   ]
  },
  {
   "cell_type": "code",
   "execution_count": 42,
   "metadata": {},
   "outputs": [
    {
     "name": "stdout",
     "output_type": "stream",
     "text": [
      "txt/Beatrix Potter___The Great Big Treasury of Beatrix Potter.txt\n",
      "txt/Beatrix Potter___The Tale of Jemima Puddle-Duck.txt\n",
      "txt/Beatrix Potter___The Tale of Timmy Tiptoes.txt\n",
      "txt/Beatrix Potter___The Tale of the Flopsy Bunnies.txt\n",
      "txt/Beatrix Potter___The Tale of Mrs. Tiggy-Winkle.txt\n",
      "txt/Beatrix Potter___The Tale of Samuel Whiskers.txt\n",
      "txt/Beatrix Potter___The Tale of the Pie and the Patty Pan.txt\n",
      "txt/Beatrix Potter___The Story of Miss Moppet.txt\n",
      "txt/Beatrix Potter___The Tale Of Benjamin Bunny.txt\n",
      "txt/Beatrix Potter___The Tale of Ginger and Pickles.txt\n",
      "txt/Beatrix Potter___A Collection of Beatrix Potter Stories.txt\n",
      "txt/Beatrix Potter___The Tale of Tom Kitten.txt\n",
      "txt/Beatrix Potter___The Tale Of Peter Rabbit.txt\n",
      "txt/Beatrix Potter___The Tale of Mr. Jeremy Fisher.txt\n",
      "txt/Beatrix Potter___Cecily Parsley's Nursery Rhymes.txt\n",
      "txt/Beatrix Potter___The Tale of Johnny Town-Mouse.txt\n",
      "txt/Beatrix Potter___The Tale of Squirrel Nutkin.txt\n",
      "txt/Beatrix Potter___The Tale of Mr. Tod.txt\n",
      "txt/Beatrix Potter___The Tailor of Gloucester.txt\n",
      "txt/Beatrix Potter___The Tale of Mrs. Tittlemouse.txt\n",
      "20\n",
      "4078\n"
     ]
    }
   ],
   "source": [
    "tokenize_books_from_author('Beatrix Potter')"
   ]
  },
  {
   "cell_type": "code",
   "execution_count": 56,
   "metadata": {},
   "outputs": [],
   "source": [
    "def tokenize_books_from_two_authors(author_name1, author_name2):\n",
    "    texts = []\n",
    "    labels = []\n",
    "    author_files = glob.glob(PATH_TO_TXT+author_name1+'*')\n",
    "    for filename in author_files:\n",
    "        print(filename)\n",
    "        with open(filename) as f:\n",
    "            text = ''.join(f.readlines())\n",
    "            f.close()\n",
    "        texts.append(text)  \n",
    "        labels.append(0)\n",
    "        #print(len(text))\n",
    "        \n",
    "    author_files = glob.glob(PATH_TO_TXT+author_name2+'*')\n",
    "    for filename in author_files:\n",
    "        print(filename)\n",
    "        with open(filename) as f:\n",
    "            text = ''.join(f.readlines())\n",
    "            f.close()\n",
    "        texts.append(text) \n",
    "        labels.append(1)\n",
    "    print(len(texts))\n",
    "    X_train, X_test, y_train, y_test = train_test_split(texts, labels, test_size=0.2, stratify=labels, random_state=42)\n",
    "    print(len(X_train))\n",
    "    print(len(X_test))\n",
    "    tokenizer = Tokenizer(oov_token=\"<OOV>\")\n",
    "    tokenizer.fit_on_texts(texts)\n",
    "    word_index = tokenizer.word_index\n",
    "    print(len(word_index))\n",
    "    sequences = tokenizer.texts_to_sequences(texts)\n",
    "    padded = pad_sequences(sequences, padding='post', truncating='post', maxlen=100)\n",
    "    print(padded.shape)\n",
    "    print(labels)\n",
    "    labels = np.array(labels)\n",
    "    print(labels.shape)"
   ]
  },
  {
   "cell_type": "code",
   "execution_count": 57,
   "metadata": {},
   "outputs": [
    {
     "name": "stdout",
     "output_type": "stream",
     "text": [
      "txt/Daniel Defoe___A True Relation of the Apparition of one Mrs. Veal.txt\n",
      "txt/Daniel Defoe___The Life and Adventures of Robinson Crusoe (1808).txt\n",
      "txt/Daniel Defoe___The Consolidator.txt\n",
      "txt/Daniel Defoe___Augusta Triumphans.txt\n",
      "txt/Daniel Defoe___Dickory Cronke.txt\n",
      "txt/Daniel Defoe___Military Memoirs of Capt. George Carleton.txt\n",
      "txt/Daniel Defoe___The King of Pirates.txt\n",
      "txt/Daniel Defoe___A Journal of the Plague Year.txt\n",
      "txt/Daniel Defoe___The Fortunes and Misfortunes of the Famous Moll Flanders.txt\n",
      "txt/Daniel Defoe___The Life and Adventures of Robinson Crusoe Of York, Mariner, Vol. 1.txt\n",
      "txt/Daniel Defoe___An Answer to a Question that Nobody thinks of, viz., But what if the Queen should Die?.txt\n",
      "txt/Daniel Defoe___The Life, Adventures & Piracies of the Famous Captain Singleton.txt\n",
      "txt/Daniel Defoe___The Further Adventures of Robinson Crusoe.txt\n",
      "txt/Daniel Defoe___From London to Land's End.txt\n",
      "txt/Daniel Defoe___An Appeal to Honour and Justice, Though It Be of His Worst Enemies.txt\n",
      "txt/Daniel Defoe___The Lay-Man's Sermon upon the Late Storm.txt\n",
      "txt/Daniel Defoe___The History of the Devil.txt\n",
      "txt/Daniel Defoe___Memoirs of Major Alexander Ramkins (1718).txt\n",
      "txt/Daniel Defoe___A Short Narrative of the Life and Actions of His Grace John, D. of Marlborogh.txt\n",
      "txt/Daniel Defoe___Tour through the Eastern Counties of England, 1722.txt\n",
      "txt/Daniel Defoe___A Seasonable Warning and Caution against the Insinuations of Papists and Jacobites.txt\n",
      "txt/Daniel Defoe___Everybody's Business is Nobody's Business.txt\n",
      "txt/Daniel Defoe___An Humble Proposal to the People of England.txt\n",
      "txt/Daniel Defoe___And What if the Pretender should Come?.txt\n",
      "txt/Daniel Defoe___A Vindication of the Press.txt\n",
      "txt/Daniel Defoe___The True-Born Englishman.txt\n",
      "txt/Daniel Defoe___Reasons against the Succession of the House of Hanover.txt\n",
      "txt/Daniel Defoe___An Essay Upon Projects.txt\n",
      "txt/Daniel Defoe___The Fortunate Mistress (Parts 1 and 2).txt\n",
      "txt/Daniel Defoe___The Life and Adventures of Robinson Crusoe.txt\n",
      "txt/Daniel Defoe___The Life and Most Surprising Adventures of Robinson Crusoe.txt\n",
      "txt/Daniel Defoe___The Complete English Tradesman (1839 ed.).txt\n",
      "txt/Daniel Defoe___Of Captain Mission.txt\n",
      "txt/Daniel Defoe___History of the Plague in London.txt\n",
      "txt/Daniel Defoe___Memoirs of a Cavalier.txt\n",
      "txt/Daniel Defoe___Atalantis Major.txt\n",
      "txt/Daniel Defoe___The History of the Remarkable Life of John Sheppard.txt\n",
      "txt/Daniel Defoe___Second Thoughts are Best.txt\n",
      "txt/Daniel Defoe___The History of the Life and Adventures of Mr. Duncan Campbell.txt\n",
      "txt/Daniel Defoe___A New Voyage Round the World by a Course Never Sailed Before.txt\n",
      "txt/Beatrix Potter___The Great Big Treasury of Beatrix Potter.txt\n",
      "txt/Beatrix Potter___The Tale of Jemima Puddle-Duck.txt\n",
      "txt/Beatrix Potter___The Tale of Timmy Tiptoes.txt\n",
      "txt/Beatrix Potter___The Tale of the Flopsy Bunnies.txt\n",
      "txt/Beatrix Potter___The Tale of Mrs. Tiggy-Winkle.txt\n",
      "txt/Beatrix Potter___The Tale of Samuel Whiskers.txt\n",
      "txt/Beatrix Potter___The Tale of the Pie and the Patty Pan.txt\n",
      "txt/Beatrix Potter___The Story of Miss Moppet.txt\n",
      "txt/Beatrix Potter___The Tale Of Benjamin Bunny.txt\n",
      "txt/Beatrix Potter___The Tale of Ginger and Pickles.txt\n",
      "txt/Beatrix Potter___A Collection of Beatrix Potter Stories.txt\n",
      "txt/Beatrix Potter___The Tale of Tom Kitten.txt\n",
      "txt/Beatrix Potter___The Tale Of Peter Rabbit.txt\n",
      "txt/Beatrix Potter___The Tale of Mr. Jeremy Fisher.txt\n",
      "txt/Beatrix Potter___Cecily Parsley's Nursery Rhymes.txt\n",
      "txt/Beatrix Potter___The Tale of Johnny Town-Mouse.txt\n",
      "txt/Beatrix Potter___The Tale of Squirrel Nutkin.txt\n",
      "txt/Beatrix Potter___The Tale of Mr. Tod.txt\n",
      "txt/Beatrix Potter___The Tailor of Gloucester.txt\n",
      "txt/Beatrix Potter___The Tale of Mrs. Tittlemouse.txt\n",
      "60\n",
      "33423\n",
      "(60, 100)\n",
      "[0, 0, 0, 0, 0, 0, 0, 0, 0, 0, 0, 0, 0, 0, 0, 0, 0, 0, 0, 0, 0, 0, 0, 0, 0, 0, 0, 0, 0, 0, 0, 0, 0, 0, 0, 0, 0, 0, 0, 0, 1, 1, 1, 1, 1, 1, 1, 1, 1, 1, 1, 1, 1, 1, 1, 1, 1, 1, 1, 1]\n",
      "(60,)\n"
     ]
    }
   ],
   "source": [
    "tokenize_books_from_two_authors('Daniel Defoe', 'Beatrix Potter')"
   ]
  },
  {
   "cell_type": "code",
   "execution_count": null,
   "metadata": {},
   "outputs": [],
   "source": []
  }
 ],
 "metadata": {
  "kernelspec": {
   "display_name": "Python [conda env:root] *",
   "language": "python",
   "name": "conda-root-py"
  },
  "language_info": {
   "codemirror_mode": {
    "name": "ipython",
    "version": 3
   },
   "file_extension": ".py",
   "mimetype": "text/x-python",
   "name": "python",
   "nbconvert_exporter": "python",
   "pygments_lexer": "ipython3",
   "version": "3.7.3"
  }
 },
 "nbformat": 4,
 "nbformat_minor": 2
}
