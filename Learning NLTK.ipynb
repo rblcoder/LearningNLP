{
 "cells": [
  {
   "cell_type": "markdown",
   "metadata": {},
   "source": [
    "Practicing nltk from https://github.com/datacamp/datacamp_facebook_live_nlp/blob/master/NLP_FB_live_coding_soln_verbose.ipynb\n",
    "Analyze text from Gutenberg Books Continued..."
   ]
  },
  {
   "cell_type": "code",
   "execution_count": 23,
   "metadata": {},
   "outputs": [],
   "source": [
    "from nltk.tokenize import RegexpTokenizer\n",
    "import glob\n",
    "from nltk.corpus import stopwords"
   ]
  },
  {
   "cell_type": "code",
   "execution_count": 26,
   "metadata": {},
   "outputs": [
    {
     "name": "stderr",
     "output_type": "stream",
     "text": [
      "[nltk_data] Downloading package stopwords to /home/ch1/nltk_data...\n",
      "[nltk_data]   Unzipping corpora/stopwords.zip.\n"
     ]
    },
    {
     "data": {
      "text/plain": [
       "True"
      ]
     },
     "execution_count": 26,
     "metadata": {},
     "output_type": "execute_result"
    }
   ],
   "source": [
    "import nltk\n",
    "nltk.download('stopwords')"
   ]
  },
  {
   "cell_type": "code",
   "execution_count": 27,
   "metadata": {},
   "outputs": [],
   "source": [
    "stopw=stopwords.words('english')"
   ]
  },
  {
   "cell_type": "code",
   "execution_count": 32,
   "metadata": {},
   "outputs": [
    {
     "data": {
      "text/plain": [
       "['i', 'me', 'my', 'myself', 'we']"
      ]
     },
     "execution_count": 32,
     "metadata": {},
     "output_type": "execute_result"
    }
   ],
   "source": [
    "stopw[:5]"
   ]
  },
  {
   "cell_type": "code",
   "execution_count": 33,
   "metadata": {},
   "outputs": [],
   "source": [
    "wordsRegexpTokenizer = RegexpTokenizer(r'\\b[A-Za-z]+\\b')"
   ]
  },
  {
   "cell_type": "code",
   "execution_count": 34,
   "metadata": {},
   "outputs": [],
   "source": [
    "PATH_TO_TXT = \"txt/\""
   ]
  },
  {
   "cell_type": "code",
   "execution_count": 68,
   "metadata": {},
   "outputs": [],
   "source": [
    "def top_words_from_book(filename, wordsRegexpTokenizer):\n",
    "    with open(filename) as f:\n",
    "        text = ''.join(f.readlines())\n",
    "        #text = f.readlines()\n",
    "        #print(type(text))\n",
    "        words = wordsRegexpTokenizer.tokenize(text)\n",
    "        lower_case_rem_sw = []\n",
    "        for word in words:\n",
    "            word_lower_case = word.lower()\n",
    "            if word_lower_case not in stopw:\n",
    "                lower_case_rem_sw.append(word_lower_case)\n",
    "        #print(type(words))\n",
    "        #print(words[:5])\n",
    "        freq_dist = nltk.FreqDist(lower_case_rem_sw)\n",
    "        most_common_words = freq_dist.most_common(5)\n",
    "        #print(lower_case_rem_sw[:5])\n",
    "        return most_common_words"
   ]
  },
  {
   "cell_type": "code",
   "execution_count": 71,
   "metadata": {},
   "outputs": [],
   "source": [
    "def top_words_from_books_of_author(author_name):\n",
    "    author_files = glob.glob(PATH_TO_TXT + author_name+'*')\n",
    "    for filename in author_files:\n",
    "        print('File name')\n",
    "        print(filename)\n",
    "        print('Most common words')\n",
    "        print(top_words_from_book(filename, wordsRegexpTokenizer))"
   ]
  },
  {
   "cell_type": "code",
   "execution_count": 72,
   "metadata": {},
   "outputs": [
    {
     "name": "stdout",
     "output_type": "stream",
     "text": [
      "File name\n",
      "txt/Beatrix Potter___The Great Big Treasury of Beatrix Potter.txt\n",
      "Most common words\n",
      "[('mr', 211), ('little', 205), ('said', 164), ('old', 95), ('pigling', 92)]\n",
      "File name\n",
      "txt/Beatrix Potter___The Tale of Jemima Puddle-Duck.txt\n",
      "Most common words\n",
      "[('jemima', 29), ('illustration', 28), ('duck', 17), ('puddle', 16), ('gentleman', 12)]\n",
      "File name\n",
      "txt/Beatrix Potter___The Tale of Timmy Tiptoes.txt\n",
      "Most common words\n",
      "[('timmy', 28), ('tiptoes', 28), ('illustration', 28), ('nuts', 21), ('little', 20)]\n",
      "File name\n",
      "txt/Beatrix Potter___The Tale of the Flopsy Bunnies.txt\n",
      "Most common words\n",
      "[('illustration', 30), ('mcgregor', 21), ('flopsy', 19), ('mr', 17), ('bunnies', 11)]\n",
      "File name\n",
      "txt/Beatrix Potter___The Tale of Mrs. Tiggy-Winkle.txt\n",
      "Most common words\n",
      "[('lucie', 30), ('little', 21), ('mrs', 16), ('winkle', 15), ('tiggy', 14)]\n",
      "File name\n",
      "txt/Beatrix Potter___The Tale of Samuel Whiskers.txt\n",
      "Most common words\n",
      "[('illustration', 58), ('tom', 25), ('kitten', 25), ('said', 20), ('tabitha', 18)]\n",
      "File name\n",
      "txt/Beatrix Potter___The Tale of the Pie and the Patty Pan.txt\n",
      "Most common words\n",
      "[('ribby', 68), ('duchess', 62), ('pie', 51), ('said', 32), ('illustration', 31)]\n",
      "File name\n",
      "txt/Beatrix Potter___The Story of Miss Moppet.txt\n",
      "Most common words\n",
      "[('illustration', 17), ('miss', 12), ('moppet', 12), ('mouse', 11), ('thinks', 4)]\n",
      "File name\n",
      "txt/Beatrix Potter___The Tale Of Benjamin Bunny.txt\n",
      "Most common words\n",
      "[('illustration', 28), ('peter', 22), ('benjamin', 20), ('little', 20), ('rabbit', 13)]\n",
      "File name\n",
      "txt/Beatrix Potter___The Tale of Ginger and Pickles.txt\n",
      "Most common words\n",
      "[('illustration', 30), ('pickles', 26), ('ginger', 22), ('shop', 13), ('penny', 6)]\n",
      "File name\n",
      "txt/Beatrix Potter___A Collection of Beatrix Potter Stories.txt\n",
      "Most common words\n",
      "[('mr', 178), ('little', 160), ('said', 148), ('pigling', 93), ('ribby', 84)]\n",
      "File name\n",
      "txt/Beatrix Potter___The Tale of Tom Kitten.txt\n",
      "Most common words\n",
      "[('illustration', 28), ('tom', 11), ('pat', 10), ('moppet', 9), ('puddle', 9)]\n",
      "File name\n",
      "txt/Beatrix Potter___The Tale Of Peter Rabbit.txt\n",
      "Most common words\n",
      "[('illustration', 46), ('peter', 25), ('mcgregor', 12), ('mr', 11), ('rabbit', 7)]\n",
      "File name\n",
      "txt/Beatrix Potter___The Tale of Mr. Jeremy Fisher.txt\n",
      "Most common words\n",
      "[('mr', 24), ('jeremy', 22), ('fisher', 10), ('water', 9), ('boat', 7)]\n",
      "File name\n",
      "txt/Beatrix Potter___Cecily Parsley's Nursery Rhymes.txt\n",
      "Most common words\n",
      "[('illustration', 19), ('tale', 17), ('peter', 8), ('rabbit', 8), ('little', 7)]\n",
      "File name\n",
      "txt/Beatrix Potter___The Tale of Johnny Town-Mouse.txt\n",
      "Most common words\n",
      "[('timmy', 25), ('willie', 25), ('johnny', 17), ('town', 17), ('mouse', 17)]\n",
      "File name\n",
      "txt/Beatrix Potter___The Tale of Squirrel Nutkin.txt\n",
      "Most common words\n",
      "[('illustration', 28), ('nutkin', 25), ('old', 22), ('brown', 20), ('little', 13)]\n",
      "File name\n",
      "txt/Beatrix Potter___The Tale of Mr. Tod.txt\n",
      "Most common words\n",
      "[('mr', 87), ('tod', 69), ('illustration', 57), ('tommy', 54), ('brock', 54)]\n",
      "File name\n",
      "txt/Beatrix Potter___The Tailor of Gloucester.txt\n",
      "Most common words\n",
      "[('tailor', 49), ('little', 38), ('simpkin', 36), ('illustration', 26), ('gloucester', 23)]\n",
      "File name\n",
      "txt/Beatrix Potter___The Tale of Mrs. Tittlemouse.txt\n",
      "Most common words\n",
      "[('mrs', 30), ('tittlemouse', 30), ('illustration', 28), ('mr', 16), ('jackson', 16)]\n"
     ]
    }
   ],
   "source": [
    "top_words_from_books_of_author('Beatrix Potter')"
   ]
  },
  {
   "cell_type": "code",
   "execution_count": null,
   "metadata": {},
   "outputs": [],
   "source": []
  }
 ],
 "metadata": {
  "kernelspec": {
   "display_name": "Python [conda env:root] *",
   "language": "python",
   "name": "conda-root-py"
  },
  "language_info": {
   "codemirror_mode": {
    "name": "ipython",
    "version": 3
   },
   "file_extension": ".py",
   "mimetype": "text/x-python",
   "name": "python",
   "nbconvert_exporter": "python",
   "pygments_lexer": "ipython3",
   "version": "3.7.3"
  }
 },
 "nbformat": 4,
 "nbformat_minor": 2
}
