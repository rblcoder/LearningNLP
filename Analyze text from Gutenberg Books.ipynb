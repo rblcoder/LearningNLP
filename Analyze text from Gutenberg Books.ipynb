{
 "cells": [
  {
   "cell_type": "markdown",
   "metadata": {},
   "source": [
    "Reading the book Natural Language Processing and Computational Linguistics By Bhargav Srinivasa-Desikan\n",
    "\n",
    "https://www.packtpub.com/in/application-development/beginning-natural-language-processing"
   ]
  },
  {
   "cell_type": "markdown",
   "metadata": {},
   "source": [
    "Dataset from https://web.eecs.umich.edu/~lahiri/gutenberg_dataset.html\n",
    "\n",
    "@InProceedings{lahiri:2014:SRW,\n",
    "\n",
    "  author    = {Lahiri, Shibamouli},\n",
    "  \n",
    "  title     = {{Complexity of Word Collocation Networks: A Preliminary Structural Analysis}},\n",
    "  \n",
    "  booktitle = {Proceedings of the Student Research Workshop at the 14th Conference of the European Chapter of the Association for Computational Linguistics},\n",
    "  \n",
    "  month     = {April},\n",
    "  \n",
    "  year      = {2014},\n",
    "  \n",
    "  address   = {Gothenburg, Sweden},\n",
    "  \n",
    "  publisher = {Association for Computational Linguistics},\n",
    "  \n",
    "  pages     = {96--105},\n",
    "  \n",
    "  url       = {http://www.aclweb.org/anthology/E14-3011}\n",
    "  \n",
    "}\n"
   ]
  },
  {
   "cell_type": "code",
   "execution_count": 1,
   "metadata": {},
   "outputs": [],
   "source": [
    "import os\n",
    "#print(len(os.listdir('.')))\n",
    "N_WORDS = 50"
   ]
  },
  {
   "cell_type": "code",
   "execution_count": 2,
   "metadata": {},
   "outputs": [
    {
     "name": "stdout",
     "output_type": "stream",
     "text": [
      "['Thomas Carlyle___Latter-Day Pamphlets.txt', 'Anthony Trollope___La Vendée.txt', 'Walt Whitman___The Patriotic Poems of Walt Whitman.txt', 'Herbert George Wells___Boon, The Mind of the Race, The Wild Asses of the Devil, and The Last Trump.txt', \"Charles Dickens___Charles Dickens' Children Stories.txt\"]\n"
     ]
    }
   ],
   "source": [
    "print(os.listdir('txt/')[:5])"
   ]
  },
  {
   "cell_type": "code",
   "execution_count": 3,
   "metadata": {},
   "outputs": [],
   "source": [
    "PATH_TO_TXT = \"txt/\""
   ]
  },
  {
   "cell_type": "code",
   "execution_count": 4,
   "metadata": {},
   "outputs": [],
   "source": [
    "f = open(PATH_TO_TXT+'Abraham Lincoln___Lincoln Letters.txt')"
   ]
  },
  {
   "cell_type": "code",
   "execution_count": 5,
   "metadata": {},
   "outputs": [],
   "source": [
    "text = ''.join(f.readlines())"
   ]
  },
  {
   "cell_type": "code",
   "execution_count": 6,
   "metadata": {},
   "outputs": [],
   "source": [
    "f.close()"
   ]
  },
  {
   "cell_type": "code",
   "execution_count": 7,
   "metadata": {},
   "outputs": [
    {
     "data": {
      "text/plain": [
       "5717"
      ]
     },
     "execution_count": 7,
     "metadata": {},
     "output_type": "execute_result"
    }
   ],
   "source": [
    "len(text)"
   ]
  },
  {
   "cell_type": "code",
   "execution_count": 8,
   "metadata": {},
   "outputs": [],
   "source": [
    "from sklearn.feature_extraction.text import TfidfVectorizer\n",
    "import numpy as np"
   ]
  },
  {
   "cell_type": "code",
   "execution_count": 9,
   "metadata": {},
   "outputs": [],
   "source": [
    "vectorizer = TfidfVectorizer(max_features=N_WORDS)\n",
    "vect = vectorizer.fit_transform([text])"
   ]
  },
  {
   "cell_type": "code",
   "execution_count": 10,
   "metadata": {},
   "outputs": [
    {
     "data": {
      "text/plain": [
       "(1, 50)"
      ]
     },
     "execution_count": 10,
     "metadata": {},
     "output_type": "execute_result"
    }
   ],
   "source": [
    "vect.shape"
   ]
  },
  {
   "cell_type": "code",
   "execution_count": 11,
   "metadata": {},
   "outputs": [
    {
     "name": "stdout",
     "output_type": "stream",
     "text": [
      "['and', 'are', 'at', 'be', 'before', 'brother', 'but', 'by', 'can', 'do', 'dollars', 'father', 'for', 'from', 'get', 'give', 'habit', 'have', 'his', 'if', 'illustration', 'in', 'is', 'it', 'know', 'letter', 'lincoln', 'me', 'money', 'more', 'my', 'not', 'now', 'of', 'on', 'or', 'so', 'that', 'the', 'they', 'this', 'to', 'very', 'what', 'which', 'will', 'with', 'work', 'you', 'your']\n"
     ]
    }
   ],
   "source": [
    "print(vectorizer.get_feature_names())"
   ]
  },
  {
   "cell_type": "markdown",
   "metadata": {},
   "source": [
    "\n",
    "https://stackoverflow.com/questions/34232190/scikit-learn-tfidfvectorizer-how-to-get-top-n-terms-with-highest-tf-idf-score"
   ]
  },
  {
   "cell_type": "code",
   "execution_count": 12,
   "metadata": {},
   "outputs": [
    {
     "data": {
      "text/plain": [
       "array([0.22850135, 0.09667365, 0.04394257, 0.07030811, 0.03515405,\n",
       "       0.03515405, 0.03515405, 0.04394257, 0.07909662, 0.06151959,\n",
       "       0.05273108, 0.03515405, 0.16698176, 0.03515405, 0.07030811,\n",
       "       0.04394257, 0.03515405, 0.10546216, 0.07030811, 0.07030811,\n",
       "       0.06151959, 0.20213581, 0.09667365, 0.18455878, 0.04394257,\n",
       "       0.04394257, 0.06151959, 0.04394257, 0.05273108, 0.04394257,\n",
       "       0.04394257, 0.10546216, 0.08788514, 0.16698176, 0.04394257,\n",
       "       0.09667365, 0.04394257, 0.12303919, 0.39548311, 0.05273108,\n",
       "       0.08788514, 0.34275203, 0.06151959, 0.03515405, 0.03515405,\n",
       "       0.1318277 , 0.07909662, 0.06151959, 0.58004189, 0.14061622])"
      ]
     },
     "execution_count": 12,
     "metadata": {},
     "output_type": "execute_result"
    }
   ],
   "source": [
    "vect[0].toarray().flatten()"
   ]
  },
  {
   "cell_type": "code",
   "execution_count": 13,
   "metadata": {},
   "outputs": [
    {
     "data": {
      "text/plain": [
       "array([48, 38, 41,  0, 21, 23, 12, 33, 49, 45, 37, 17, 31, 22,  1, 35, 40,\n",
       "       32,  8, 46, 14,  3, 18, 19,  9, 47, 20, 26, 42, 39, 28, 10, 24, 25,\n",
       "        7, 34, 36, 29, 30,  2, 15, 27,  5,  4, 44,  6, 43, 13, 16, 11])"
      ]
     },
     "execution_count": 13,
     "metadata": {},
     "output_type": "execute_result"
    }
   ],
   "source": [
    "np.argsort(vect[0].toarray().flatten())[::-1]"
   ]
  },
  {
   "cell_type": "code",
   "execution_count": 14,
   "metadata": {},
   "outputs": [
    {
     "data": {
      "text/plain": [
       "array(['you', 'the', 'to', 'and', 'in', 'it', 'for', 'of', 'your', 'will',\n",
       "       'that', 'have', 'not', 'is', 'are', 'or', 'this', 'now', 'can',\n",
       "       'with', 'get', 'be', 'his', 'if', 'do', 'work', 'illustration',\n",
       "       'lincoln', 'very', 'they', 'money', 'dollars', 'know', 'letter',\n",
       "       'by', 'on', 'so', 'more', 'my', 'at', 'give', 'me', 'brother',\n",
       "       'before', 'which', 'but', 'what', 'from', 'habit', 'father'],\n",
       "      dtype='<U12')"
      ]
     },
     "execution_count": 14,
     "metadata": {},
     "output_type": "execute_result"
    }
   ],
   "source": [
    "np.array(vectorizer.get_feature_names())[np.argsort(vect[0].toarray().flatten())[::-1]]"
   ]
  },
  {
   "cell_type": "code",
   "execution_count": 15,
   "metadata": {},
   "outputs": [],
   "source": [
    "def top_words_from_book(filename):\n",
    "    with open(filename) as f:\n",
    "        text = ''.join(f.readlines())\n",
    "        vectorizer = TfidfVectorizer(max_features=N_WORDS, stop_words='english')\n",
    "        vect = vectorizer.fit_transform([text])\n",
    "        #print(vectorizer.get_feature_names())\n",
    "        return np.array(vectorizer.get_feature_names())[np.argsort(vect[0].toarray().flatten())[::-1]]"
   ]
  },
  {
   "cell_type": "code",
   "execution_count": 16,
   "metadata": {},
   "outputs": [],
   "source": [
    "#https://stackoverflow.com/questions/13297406/using-file-extension-wildcards-in-os-listdirpath\n",
    "import glob\n",
    "# author_files = glob.glob('Beatrix Potter*')\n",
    "# for filename in author_files:\n",
    "#     print(filename)\n",
    "#     print(top_words_from_book(filename))"
   ]
  },
  {
   "cell_type": "code",
   "execution_count": 17,
   "metadata": {},
   "outputs": [],
   "source": [
    "def top_words_from_books_of_author(author_name):\n",
    "    author_files = glob.glob(PATH_TO_TXT+author_name+'*')\n",
    "    for filename in author_files:\n",
    "        print(filename)\n",
    "        print(top_words_from_book(filename))"
   ]
  },
  {
   "cell_type": "markdown",
   "metadata": {},
   "source": [
    "https://medium.com/mlreview/topic-modeling-with-scikit-learn-e80d33668730"
   ]
  },
  {
   "cell_type": "code",
   "execution_count": 18,
   "metadata": {},
   "outputs": [],
   "source": [
    "from sklearn.decomposition import NMF"
   ]
  },
  {
   "cell_type": "code",
   "execution_count": 19,
   "metadata": {},
   "outputs": [],
   "source": [
    "def top_topic_from_book(filename):\n",
    "    with open(filename) as f:\n",
    "        text = ''.join(f.readlines())\n",
    "        vectorizer = TfidfVectorizer(max_features=N_WORDS, stop_words='english')\n",
    "        vect = vectorizer.fit_transform([text])\n",
    "        #print(vectorizer.get_feature_names())\n",
    "        nmf = NMF(n_components=1, random_state=1).fit(vect)\n",
    "        #print(nmf.components_.argsort().shape)\n",
    "        nmf_arg_sort = nmf.components_.argsort().flatten()[::-1]\n",
    "        return np.array(vectorizer.get_feature_names())[nmf_arg_sort]"
   ]
  },
  {
   "cell_type": "code",
   "execution_count": 20,
   "metadata": {},
   "outputs": [],
   "source": [
    "# author_files = glob.glob('Beatrix Potter*')\n",
    "# for filename in author_files:\n",
    "#     print(filename)\n",
    "#     print(top_topic_from_book(filename))"
   ]
  },
  {
   "cell_type": "code",
   "execution_count": 21,
   "metadata": {},
   "outputs": [],
   "source": [
    "def top_topic_from_books_of_author(author_name):\n",
    "    author_files = glob.glob(PATH_TO_TXT+author_name+'*')\n",
    "    for filename in author_files:\n",
    "        print(filename)\n",
    "        print(top_topic_from_book(filename))"
   ]
  },
  {
   "cell_type": "code",
   "execution_count": 22,
   "metadata": {},
   "outputs": [
    {
     "name": "stdout",
     "output_type": "stream",
     "text": [
      "txt/Beatrix Potter___The Great Big Treasury of Beatrix Potter.txt\n",
      "['mr' 'little' 'said' 'old' 'pigling' 'came' 'went' 'peter' 'mrs' 'ribby'\n",
      " 'tod' 'benjamin' 'house' 'rabbit' 'door' 'away' 'tom' 'did' 'brock' 'pig'\n",
      " 'tommy' 'way' 'looked' 'kitchen' 'bland' 'duchess' 'mouse' 'sat' 'tailor'\n",
      " 'mcgregor' 'bed' 'hole' 'time' 'quite' 'got' 'come' 'window' 'like'\n",
      " 'kitten' 'day' 'pie' 'took' 'home' 'round' 'oh' 'jemima' 'moppet'\n",
      " 'inside' 'dear' 'water']\n",
      "txt/Beatrix Potter___The Tale of Jemima Puddle-Duck.txt\n",
      "['jemima' 'illustration' 'duck' 'puddle' 'gentleman' 'eggs' 'said' 'shed'\n",
      " 'nest' 'wood' 'house' 'onions' 'let' 'sandy' 'way' 'long' 'whiskers'\n",
      " 'herbs' 'newspaper' 'afternoon' 'went' 'sitting' 'omelette' 'place'\n",
      " 'alighted' 'bag' 'bushy' 'came' 'collie' 'convenient' 'door' 'farm'\n",
      " 'feathers' 'fox' 'hatch' 'tale' 'stump' 'sit' 'round' 'quite' 'looking'\n",
      " 'madam' 'puppies' 'looked' 'tree' 'used' 'ducklings' 'dry' 'kep' 'shawl']\n",
      "txt/Beatrix Potter___The Tale of Timmy Tiptoes.txt\n",
      "['illustration' 'tiptoes' 'timmy' 'nuts' 'little' 'goody' 'hole' 'chippy'\n",
      " 'tree' 'said' 'did' 'digging' 'hackee' '_my_' 'squirrel' 'squirrels'\n",
      " 'away' 'nut' 'shall' 'fat' 'bird' 'came' 'chipmunk' 'went' 'day' 'time'\n",
      " 'wood' 'home' 'voice' 'bags' 'called' 'nest' 'sang' 'noise' 'night'\n",
      " 'began' 'quantities' 'bush' 'spring' 'come' 'chuckled' 'husband' 'flew'\n",
      " 'wife' 'diddle' 'didn' 'striped' 'store' 'rattled' 'lay']\n",
      "txt/Beatrix Potter___The Tale of the Flopsy Bunnies.txt\n",
      "['illustration' 'mcgregor' 'flopsy' 'mr' 'sack' 'bunnies' 'benjamin'\n",
      " 'rabbit' 'little' 'mrs' 'said' 'old' 'rabbits' 'peter' 'paper' 'bunny'\n",
      " 'came' 'jam' 'mouse' 'did' 'lettuces' 'bag' 'rubbish' 'tale' 'mowing'\n",
      " 'garden' 'sleep' 'grass' 'cloak' 'soporific' 'heap' 'lawn' 'leetle'\n",
      " 'rotten' 'tittlemouse' 'machine' 'marrows' 'window' 'wall' 'felt' 'field'\n",
      " 'happened' 'silly' 'got' 'mowings' 'heads' 'shall' 'overcome' 'mother'\n",
      " 'youngest']\n",
      "txt/Beatrix Potter___The Tale of Mrs. Tiggy-Winkle.txt\n",
      "['lucie' 'little' 'mrs' 'winkle' 'tiggy' 'oh' 'said' 'hill' 'pocket'\n",
      " 'clothes' 'belonging' 'stile' 'came' 'clean' 'white' 'door' 'handkins'\n",
      " 'pinny' 'went' 'town' 'washing' 'things' 'cup' 'called' 'twinkle'\n",
      " 'barefoot' 'person' 'sniffle' 'small' 'seen' 'rabbit' 'running' 'path'\n",
      " 'nice' 'farm' 'tea' 'smell' 'dear' 'robin' 'hand' 'gown' 'handkerchiefs'\n",
      " 'handkin' 'ran' 'hot' 'petticoat' 'look' 'looked' 'peter' 'marked']\n",
      "txt/Beatrix Potter___The Tale of Samuel Whiskers.txt\n",
      "['illustration' 'tom' 'kitten' 'said' 'tabitha' 'maria' 'anna' 'ribby'\n",
      " 'rats' 'rat' 'little' 'old' 'chimney' 'moppet' 'roly' 'dough' 'looked'\n",
      " 'went' 'mother' 'did' 'samuel' 'whiskers' 'mittens' 'pin' 'rolling'\n",
      " 'poly' 'got' 'butter' 'came' 'cousin' 'mrs' 'house' 'pudding' 'noise'\n",
      " 'hole' 'make' 'place' 'like' 'attic' 'big' 'oh' 'saw' 'time' 'kitchen'\n",
      " 'going' 'knots' 'head' 'way' 'just' 'floor']\n",
      "txt/Beatrix Potter___The Tale of the Pie and the Patty Pan.txt\n",
      "['ribby' 'duchess' 'pie' 'said' 'illustration' 'dear' 'patty' 'pan' 'oven'\n",
      " 'mouse' 'little' 'dish' 'door' 'ha' 'went' 'tea' 'oh' 'think' 'did'\n",
      " 'white' 'feel' 'eat' 'swallowed' 'tabitha' 'came' 'party' 'really'\n",
      " 'cousin' 'shall' 'doctor' 'home' 'twitchit' 'dog' 'come' 'dr' 'yes'\n",
      " 'maggotty' 'gammon' 'house' 'just' 'looked' 'pink' 'sat' 'table' 'time'\n",
      " '_my_' 'fast' 'feeling' 'penguin' 'set']\n",
      "txt/Beatrix Potter___The Story of Miss Moppet.txt\n",
      "['illustration' 'miss' 'moppet' 'mouse' 'cupboard' 'duster' 'thinks'\n",
      " 'comes' 'head' 'worse' 'frederick' 'hole' 'looks' '1906' 'warne' 'ties'\n",
      " 'run' 'london' 'limited' 'tease' 'teased' 'tosses' 'untied' 'sits'\n",
      " 'watches' 'beatrix' 'ball' 'away' 'afraid' '_very_' '_author' 'tale'\n",
      " 'making' 'sudden' 'poor' 'rabbit' 'pussy' 'pull' 'published' 'printed'\n",
      " 'potter' 'peter' 'misses' 'peeping' 'william' 'nice' 'nearer' 'sliding'\n",
      " 'story' 'paws']\n",
      "txt/Beatrix Potter___The Tale Of Benjamin Bunny.txt\n",
      "['illustration' 'peter' 'little' 'benjamin' 'rabbit' 'mr' 'old' 'mcgregor'\n",
      " 'bunny' 'garden' 'said' 'cat' 'sat' 'onions' 'basket' 'got'\n",
      " 'handkerchief' 'took' 'cotton' 'tail' 'pocket' 'mrs' 'wall' 'coat' 'wood'\n",
      " 'looked' 'shoes' 'went' 'lettuces' 'tree' 'tobacco' 'came' 'clothes'\n",
      " 'scarecrow' 'cousin' 'did' 'aunt' 'round' 'quite' 'greenhouse' 'half'\n",
      " 'hand' 'home' 'frederick' 'end' 'saw' 'shanter' 'presently' 'hole' 'fell']\n",
      "txt/Beatrix Potter___The Tale of Ginger and Pickles.txt\n",
      "['illustration' 'pickles' 'ginger' 'shop' 'afraid' 'replied' 'said'\n",
      " 'penny' 'credit' 'customers' 'little' 'policeman' 'money' 'time'\n",
      " 'twitchit' 'mice' 'buy' 'dormouse' 'tabitha' 'come' 'did' 'mr' 'came'\n",
      " 'licence' 'sums' 'john' 'tale' 'henny' 'ate' 'everybody' 'envelope'\n",
      " 'sold' 'barked' 'customer' 'counter' 'crowds' 'day' 'whiskers' 'dog'\n",
      " 'doll' 'door' 'eat' 'nearly' 'pay' 'quantities' 'rabbits' 'small' 'snuff'\n",
      " 'sponge' 'kept']\n",
      "txt/Beatrix Potter___A Collection of Beatrix Potter Stories.txt\n",
      "['mr' 'little' 'said' 'pigling' 'ribby' 'peter' 'went' 'tod' 'benjamin'\n",
      " 'came' 'duchess' 'old' 'rabbit' 'house' 'pig' 'did' 'pie' 'tommy' 'brock'\n",
      " 'door' 'bland' 'way' 'tom' 'looked' 'away' 'mcgregor' 'mrs' 'kitchen'\n",
      " 'hole' 'time' 'mouse' 'come' 'got' 'quite' 'oh' 'bed' 'dear' 'end' 'sat'\n",
      " 'window' 'flopsy' 'inside' 'home' 'cousin' 'jemima' 'kitten' 'tabitha'\n",
      " 'tale' 'water' 'lucie']\n",
      "txt/Beatrix Potter___The Tale of Tom Kitten.txt\n",
      "['illustration' 'tom' 'pat' 'moppet' 'puddle' 'duck' 'kitten' 'pit'\n",
      " 'mittens' 'wall' 'kittens' 'tabitha' 'came' 'garden' 'mr' 'mrs'\n",
      " 'pinafores' 'buttons' 'said' 'fell' 'clothes' 'drake' 'dress' 'twitchit'\n",
      " 'road' 'paddle' 'ducks' 'rebeccah' 'friends' 'jemima' 'come' 'hat' 'fur'\n",
      " 'frederick' 'fine' 'went' 'hind' 'legs' 'little' 'way' 'quite' 'stood'\n",
      " 'tale' 'tea' 'took' 'tucker' 'turned' 'waddle' 'warne' 'mother']\n",
      "txt/Beatrix Potter___The Tale Of Peter Rabbit.txt\n",
      "['illustration' 'peter' 'mcgregor' 'mr' 'rabbit' 'little' 'gate' 'garden'\n",
      " 'jacket' 'went' 'underneath' 'shed' 'got' 'time' 'way' 'flopsy' 'came'\n",
      " 'big' 'jumped' 'began' 'lost' 'mopsy' 'wood' 'mother' 'mrs' 'running'\n",
      " 'tool' 'tale' 'tail' 'straight' 'away' 'ran' 'old' 'presently' 'quite'\n",
      " 'fir' 'cotton' 'currant' 'don' 'fast' 'run' 'lane' 'shoes' 'scratch'\n",
      " 'new' 'going' 'saalfield' 'heard' 'rushed' 'gave']\n",
      "txt/Beatrix Potter___The Tale of Mr. Jeremy Fisher.txt\n",
      "['mr' 'jeremy' 'fisher' 'water' 'boat' 'said' 'pond' 'little' 'rod' 'came'\n",
      " 'macintosh' 'thing' 'minnow' 'basket' 'took' 'edge' 'think' 'fishing'\n",
      " 'float' 'goloshes' 'like' 'alderman' 'minnows' 'ow' 'place' 'sir' 'rain'\n",
      " 'quite' 'dish' 'ptolemy' 'end' 'enormous' 'fingers' 'fish' 'splash'\n",
      " 'pole' 'frederick' 'stickleback' 'friends' 'getting' 'great' 'instead'\n",
      " 'isaac' 'salad' 'larder' 'newton' 'lily' 'warne' 'lunch' 'sandwich']\n",
      "txt/Beatrix Potter___Cecily Parsley's Nursery Rhymes.txt\n",
      "['illustration' 'tale' 'rabbit' 'peter' 'little' 'cecily' 'parsley' 'mice'\n",
      " 'pig' 'nursery' 'rhymes' 'books' 'dog' 'mr' 'mrs' 'wow' 'potter' 'pussy'\n",
      " 'warne' 'bad' 'beatrix' 'benjamin' 'frederick' 'blind' 'wee' 'garden'\n",
      " 'bunny' 'tom' 'fisher' 'flopsy' 'pigling' 'duck' 'bland' 'bow'\n",
      " 'gentlemen' 'gloucester' 'goosey' 'home' 'tiggy' 'jemima' 'lapin'\n",
      " 'tailor' 'winkle' 'miss' 'mistress' 'story' 'stands' 'squirrel' 'nutkin'\n",
      " '85']\n",
      "txt/Beatrix Potter___The Tale of Johnny Town-Mouse.txt\n",
      "['willie' 'timmy' 'mouse' 'johnny' 'town' 'hamper' 'said' 'little' 'cat'\n",
      " 'garden' 'cook' 'went' 'did' 'friends' 'carrier' 'vegetables' 'came'\n",
      " 'noise' 'mice' 'cart' 'come' 'hole' 'better' 'country' 'jolt' 'bed'\n",
      " 'week' 'visit' 'place' 'sun' 'sarah' 'sofa' 'oh' 'set' 'sure' 'suits'\n",
      " 'stopped' 'spring' 'courses' 'jolting' 'fearful' 'food' 'sandy'\n",
      " 'gardener' 'gate' 'goes' 'poker' 'house' 'inquired' 'fetch']\n",
      "txt/Beatrix Potter___The Tale of Squirrel Nutkin.txt\n",
      "['illustration' 'nutkin' 'old' 'brown' 'mr' 'little' 'squirrels' 'riddle'\n",
      " 'nuts' 'door' 'island' 'present' 'fat' 'tree' 'day' 'red' 'brought'\n",
      " 'twinkleberry' 'king' 'tail' 'came' 'went' 'gather' 'hitty' 'house'\n",
      " 'lake' 'like' 'singing' 'll' 'took' 'bushes' 'owl' 'pitty' 'cuck' 'said'\n",
      " 'wood' 'eyes' 'buzz' 'carried' 'yellow' 'filled' 'frederick' 'round'\n",
      " 'sacks' 'shut' 'squirrel' 'stone' 'tale' 'warne' 'away']\n",
      "txt/Beatrix Potter___The Tale of Mr. Tod.txt\n",
      "['mr' 'tod' 'illustration' 'tommy' 'brock' 'benjamin' 'rabbit' 'window'\n",
      " 'peter' 'house' 'bed' 'old' 'kitchen' 'bouncer' 'way' 'door' 'rabbits'\n",
      " 'pail' 'water' 'little' 'cousin' 'came' 'said' 'hole' 'went' 'end' 'wood'\n",
      " 'inside' 'quite' 'rope' 'chair' 'half' 'gone' 'flopsy' 'family' 'did'\n",
      " 'bedroom' 'bunny' 'young' 'person' 'rocks' 'shut' 'tunnel' 'eyes' 'home'\n",
      " 'outside' 'sack' 'blanket' 'smell' 'away']\n",
      "txt/Beatrix Potter___The Tailor of Gloucester.txt\n",
      "['tailor' 'little' 'simpkin' 'illustration' 'gloucester' 'mice' 'twist'\n",
      " 'said' 'came' 'old' 'silk' 'coloured' 'mouse' 'tap' 'tip' 'coat' 'cherry'\n",
      " 'dresser' 'button' 'day' 'christmas' 'snow' 'tea' 'went' 'window' 'shop'\n",
      " 'door' 'waistcoat' 'like' 'cut' 'holes' 'away' 'poor' 'voices' 'satin'\n",
      " 'night' 'kitchen' 'table' 'run' 'quite' 'embroidered' 'house' 'morning'\n",
      " 'noises' 'lay' 'miaw' 'small' 'mew' 'cat' 'taffeta']\n",
      "txt/Beatrix Potter___The Tale of Mrs. Tittlemouse.txt\n",
      "['mrs' 'tittlemouse' 'illustration' 'jackson' 'mr' 'widdly' 'said'\n",
      " 'little' 'thank' 'honey' 'bumble' 'tiddly' 'bees' 'window' 'babbitty'\n",
      " 'feet' 'penguin' 'passage' 'got' 'hedge' 'copyright' 'moss' 'began'\n",
      " 'went' 'away' 'door' 'house' 'dirty' 'books' 'wizz' 'new' 'storeroom'\n",
      " 'spider' 'sat' 'came' 'thistle' 'teeth' 'seed' 'butterfly' 'buzz' 'clean'\n",
      " 'nut' 'day' 'dinner' 'sandy' 'round' 'parlour' 'frederick' 'pantry'\n",
      " 'marks']\n"
     ]
    }
   ],
   "source": [
    "top_words_from_books_of_author('Beatrix Potter')"
   ]
  },
  {
   "cell_type": "code",
   "execution_count": 23,
   "metadata": {},
   "outputs": [
    {
     "name": "stdout",
     "output_type": "stream",
     "text": [
      "txt/Beatrix Potter___The Great Big Treasury of Beatrix Potter.txt\n",
      "['mr' 'little' 'said' 'old' 'pigling' 'came' 'went' 'peter' 'mrs' 'ribby'\n",
      " 'tod' 'benjamin' 'house' 'rabbit' 'door' 'away' 'tom' 'did' 'brock' 'pig'\n",
      " 'tommy' 'way' 'looked' 'kitchen' 'bland' 'duchess' 'mouse' 'sat' 'tailor'\n",
      " 'mcgregor' 'bed' 'hole' 'time' 'quite' 'got' 'come' 'window' 'like'\n",
      " 'kitten' 'day' 'pie' 'took' 'home' 'round' 'oh' 'jemima' 'moppet'\n",
      " 'inside' 'dear' 'water']\n",
      "txt/Beatrix Potter___The Tale of Jemima Puddle-Duck.txt\n",
      "['jemima' 'illustration' 'duck' 'puddle' 'gentleman' 'eggs' 'said' 'shed'\n",
      " 'nest' 'wood' 'house' 'onions' 'let' 'sandy' 'way' 'long' 'whiskers'\n",
      " 'herbs' 'newspaper' 'afternoon' 'went' 'sitting' 'omelette' 'place'\n",
      " 'alighted' 'bag' 'bushy' 'came' 'collie' 'convenient' 'door' 'farm'\n",
      " 'feathers' 'fox' 'hatch' 'tale' 'stump' 'sit' 'round' 'quite' 'looking'\n",
      " 'madam' 'puppies' 'looked' 'tree' 'used' 'ducklings' 'dry' 'kep' 'shawl']\n",
      "txt/Beatrix Potter___The Tale of Timmy Tiptoes.txt\n",
      "['illustration' 'tiptoes' 'timmy' 'nuts' 'little' 'goody' 'hole' 'chippy'\n",
      " 'tree' 'said' 'did' 'digging' 'hackee' '_my_' 'squirrel' 'squirrels'\n",
      " 'away' 'nut' 'shall' 'fat' 'bird' 'came' 'chipmunk' 'went' 'day' 'time'\n",
      " 'wood' 'home' 'voice' 'bags' 'called' 'nest' 'sang' 'noise' 'night'\n",
      " 'began' 'quantities' 'bush' 'spring' 'come' 'chuckled' 'husband' 'flew'\n",
      " 'wife' 'diddle' 'didn' 'striped' 'store' 'rattled' 'lay']\n",
      "txt/Beatrix Potter___The Tale of the Flopsy Bunnies.txt\n",
      "['illustration' 'mcgregor' 'flopsy' 'mr' 'sack' 'bunnies' 'benjamin'\n",
      " 'rabbit' 'little' 'mrs' 'said' 'old' 'rabbits' 'peter' 'paper' 'bunny'\n",
      " 'came' 'jam' 'mouse' 'did' 'lettuces' 'bag' 'rubbish' 'tale' 'mowing'\n",
      " 'garden' 'sleep' 'grass' 'cloak' 'soporific' 'heap' 'lawn' 'leetle'\n",
      " 'rotten' 'tittlemouse' 'machine' 'marrows' 'window' 'wall' 'felt' 'field'\n",
      " 'happened' 'silly' 'got' 'mowings' 'heads' 'shall' 'overcome' 'mother'\n",
      " 'youngest']\n",
      "txt/Beatrix Potter___The Tale of Mrs. Tiggy-Winkle.txt\n",
      "['lucie' 'little' 'mrs' 'winkle' 'tiggy' 'oh' 'said' 'hill' 'pocket'\n",
      " 'clothes' 'belonging' 'stile' 'came' 'clean' 'white' 'door' 'handkins'\n",
      " 'pinny' 'went' 'town' 'washing' 'things' 'cup' 'called' 'twinkle'\n",
      " 'barefoot' 'person' 'sniffle' 'small' 'seen' 'rabbit' 'running' 'path'\n",
      " 'nice' 'farm' 'tea' 'smell' 'dear' 'robin' 'hand' 'gown' 'handkerchiefs'\n",
      " 'handkin' 'ran' 'hot' 'petticoat' 'look' 'looked' 'peter' 'marked']\n",
      "txt/Beatrix Potter___The Tale of Samuel Whiskers.txt\n",
      "['illustration' 'tom' 'kitten' 'said' 'tabitha' 'maria' 'anna' 'ribby'\n",
      " 'rats' 'rat' 'little' 'old' 'chimney' 'moppet' 'roly' 'dough' 'looked'\n",
      " 'went' 'mother' 'did' 'samuel' 'whiskers' 'mittens' 'pin' 'rolling'\n",
      " 'poly' 'got' 'butter' 'came' 'cousin' 'mrs' 'house' 'pudding' 'noise'\n",
      " 'hole' 'make' 'place' 'like' 'attic' 'big' 'oh' 'saw' 'time' 'kitchen'\n",
      " 'going' 'knots' 'head' 'way' 'just' 'floor']\n",
      "txt/Beatrix Potter___The Tale of the Pie and the Patty Pan.txt\n",
      "['ribby' 'duchess' 'pie' 'said' 'illustration' 'dear' 'patty' 'pan' 'oven'\n",
      " 'mouse' 'little' 'dish' 'door' 'ha' 'went' 'tea' 'oh' 'think' 'did'\n",
      " 'white' 'feel' 'eat' 'swallowed' 'tabitha' 'came' 'party' 'really'\n",
      " 'cousin' 'shall' 'doctor' 'home' 'twitchit' 'dog' 'come' 'dr' 'yes'\n",
      " 'maggotty' 'gammon' 'house' 'just' 'looked' 'pink' 'sat' 'table' 'time'\n",
      " '_my_' 'fast' 'feeling' 'penguin' 'set']\n",
      "txt/Beatrix Potter___The Story of Miss Moppet.txt\n",
      "['illustration' 'miss' 'moppet' 'mouse' 'cupboard' 'duster' 'thinks'\n",
      " 'comes' 'head' 'worse' 'frederick' 'hole' 'looks' '1906' 'warne' 'ties'\n",
      " 'run' 'london' 'limited' 'tease' 'teased' 'tosses' 'untied' 'sits'\n",
      " 'watches' 'beatrix' 'ball' 'away' 'afraid' '_very_' '_author' 'tale'\n",
      " 'making' 'sudden' 'poor' 'rabbit' 'pussy' 'pull' 'published' 'printed'\n",
      " 'potter' 'peter' 'misses' 'peeping' 'william' 'nice' 'nearer' 'sliding'\n",
      " 'story' 'paws']\n",
      "txt/Beatrix Potter___The Tale Of Benjamin Bunny.txt\n",
      "['illustration' 'peter' 'little' 'benjamin' 'rabbit' 'mr' 'old' 'mcgregor'\n",
      " 'bunny' 'garden' 'said' 'cat' 'sat' 'onions' 'basket' 'got'\n",
      " 'handkerchief' 'took' 'cotton' 'tail' 'pocket' 'mrs' 'wall' 'coat' 'wood'\n",
      " 'looked' 'shoes' 'went' 'lettuces' 'tree' 'tobacco' 'came' 'clothes'\n",
      " 'scarecrow' 'cousin' 'did' 'aunt' 'round' 'quite' 'greenhouse' 'half'\n",
      " 'hand' 'home' 'frederick' 'end' 'saw' 'shanter' 'presently' 'hole' 'fell']\n",
      "txt/Beatrix Potter___The Tale of Ginger and Pickles.txt\n",
      "['illustration' 'pickles' 'ginger' 'shop' 'afraid' 'replied' 'said'\n",
      " 'penny' 'credit' 'customers' 'little' 'policeman' 'money' 'time'\n",
      " 'twitchit' 'mice' 'buy' 'dormouse' 'tabitha' 'come' 'did' 'mr' 'came'\n",
      " 'licence' 'sums' 'john' 'tale' 'henny' 'ate' 'everybody' 'envelope'\n",
      " 'sold' 'barked' 'customer' 'counter' 'crowds' 'day' 'whiskers' 'dog'\n",
      " 'doll' 'door' 'eat' 'nearly' 'pay' 'quantities' 'rabbits' 'small' 'snuff'\n",
      " 'sponge' 'kept']\n",
      "txt/Beatrix Potter___A Collection of Beatrix Potter Stories.txt\n"
     ]
    },
    {
     "name": "stderr",
     "output_type": "stream",
     "text": [
      "/home/ch1/anaconda3/lib/python3.7/site-packages/sklearn/decomposition/nmf.py:116: RuntimeWarning: invalid value encountered in sqrt\n",
      "  return np.sqrt(res * 2)\n",
      "/home/ch1/anaconda3/lib/python3.7/site-packages/sklearn/decomposition/nmf.py:116: RuntimeWarning: invalid value encountered in sqrt\n",
      "  return np.sqrt(res * 2)\n",
      "/home/ch1/anaconda3/lib/python3.7/site-packages/sklearn/decomposition/nmf.py:116: RuntimeWarning: invalid value encountered in sqrt\n",
      "  return np.sqrt(res * 2)\n"
     ]
    },
    {
     "name": "stdout",
     "output_type": "stream",
     "text": [
      "['mr' 'little' 'said' 'pigling' 'ribby' 'peter' 'went' 'tod' 'benjamin'\n",
      " 'came' 'duchess' 'old' 'rabbit' 'house' 'pig' 'did' 'pie' 'tommy' 'brock'\n",
      " 'door' 'bland' 'way' 'tom' 'looked' 'away' 'mcgregor' 'mrs' 'kitchen'\n",
      " 'hole' 'time' 'mouse' 'come' 'got' 'quite' 'oh' 'bed' 'dear' 'end' 'sat'\n",
      " 'window' 'flopsy' 'inside' 'home' 'cousin' 'jemima' 'kitten' 'tabitha'\n",
      " 'tale' 'water' 'lucie']\n",
      "txt/Beatrix Potter___The Tale of Tom Kitten.txt\n",
      "['illustration' 'tom' 'pat' 'moppet' 'puddle' 'duck' 'kitten' 'pit'\n",
      " 'mittens' 'wall' 'kittens' 'tabitha' 'came' 'garden' 'mr' 'mrs'\n",
      " 'pinafores' 'buttons' 'said' 'fell' 'clothes' 'drake' 'dress' 'twitchit'\n",
      " 'road' 'paddle' 'ducks' 'rebeccah' 'friends' 'jemima' 'come' 'hat' 'fur'\n",
      " 'frederick' 'fine' 'went' 'hind' 'legs' 'little' 'way' 'quite' 'stood'\n",
      " 'tale' 'tea' 'took' 'tucker' 'turned' 'waddle' 'warne' 'mother']\n",
      "txt/Beatrix Potter___The Tale Of Peter Rabbit.txt\n",
      "['illustration' 'peter' 'mcgregor' 'mr' 'rabbit' 'little' 'gate' 'garden'\n",
      " 'jacket' 'went' 'underneath' 'shed' 'got' 'time' 'way' 'flopsy' 'came'\n",
      " 'big' 'jumped' 'began' 'lost' 'mopsy' 'wood' 'mother' 'mrs' 'running'\n",
      " 'tool' 'tale' 'tail' 'straight' 'away' 'ran' 'old' 'presently' 'quite'\n",
      " 'fir' 'cotton' 'currant' 'don' 'fast' 'run' 'lane' 'shoes' 'scratch'\n",
      " 'new' 'going' 'saalfield' 'heard' 'rushed' 'gave']\n",
      "txt/Beatrix Potter___The Tale of Mr. Jeremy Fisher.txt\n",
      "['mr' 'jeremy' 'fisher' 'water' 'boat' 'said' 'pond' 'little' 'rod' 'came'\n",
      " 'macintosh' 'thing' 'minnow' 'basket' 'took' 'edge' 'think' 'fishing'\n",
      " 'float' 'goloshes' 'like' 'alderman' 'minnows' 'ow' 'place' 'sir' 'rain'\n",
      " 'quite' 'dish' 'ptolemy' 'end' 'enormous' 'fingers' 'fish' 'splash'\n",
      " 'pole' 'frederick' 'stickleback' 'friends' 'getting' 'great' 'instead'\n",
      " 'isaac' 'salad' 'larder' 'newton' 'lily' 'warne' 'lunch' 'sandwich']\n",
      "txt/Beatrix Potter___Cecily Parsley's Nursery Rhymes.txt\n",
      "['illustration' 'tale' 'rabbit' 'peter' 'little' 'cecily' 'parsley' 'mice'\n",
      " 'pig' 'nursery' 'rhymes' 'books' 'dog' 'mr' 'mrs' 'wow' 'potter' 'pussy'\n",
      " 'warne' 'bad' 'beatrix' 'benjamin' 'frederick' 'blind' 'wee' 'garden'\n",
      " 'bunny' 'tom' 'fisher' 'flopsy' 'pigling' 'duck' 'bland' 'bow'\n",
      " 'gentlemen' 'gloucester' 'goosey' 'home' 'tiggy' 'jemima' 'lapin'\n",
      " 'tailor' 'winkle' 'miss' 'mistress' 'story' 'stands' 'squirrel' 'nutkin'\n",
      " '85']\n",
      "txt/Beatrix Potter___The Tale of Johnny Town-Mouse.txt\n",
      "['willie' 'timmy' 'mouse' 'johnny' 'town' 'hamper' 'said' 'little' 'cat'\n",
      " 'garden' 'cook' 'went' 'did' 'friends' 'carrier' 'vegetables' 'came'\n",
      " 'noise' 'mice' 'cart' 'come' 'hole' 'better' 'country' 'jolt' 'bed'\n",
      " 'week' 'visit' 'place' 'sun' 'sarah' 'sofa' 'oh' 'set' 'sure' 'suits'\n",
      " 'stopped' 'spring' 'courses' 'jolting' 'fearful' 'food' 'sandy'\n",
      " 'gardener' 'gate' 'goes' 'poker' 'house' 'inquired' 'fetch']\n",
      "txt/Beatrix Potter___The Tale of Squirrel Nutkin.txt\n",
      "['illustration' 'nutkin' 'old' 'brown' 'mr' 'little' 'squirrels' 'riddle'\n",
      " 'nuts' 'door' 'island' 'present' 'fat' 'tree' 'day' 'red' 'brought'\n",
      " 'twinkleberry' 'king' 'tail' 'came' 'went' 'gather' 'hitty' 'house'\n",
      " 'lake' 'like' 'singing' 'll' 'took' 'bushes' 'owl' 'pitty' 'cuck' 'said'\n",
      " 'wood' 'eyes' 'buzz' 'carried' 'yellow' 'filled' 'frederick' 'round'\n",
      " 'sacks' 'shut' 'squirrel' 'stone' 'tale' 'warne' 'away']\n",
      "txt/Beatrix Potter___The Tale of Mr. Tod.txt\n",
      "['mr' 'tod' 'illustration' 'tommy' 'brock' 'benjamin' 'rabbit' 'window'\n",
      " 'peter' 'house' 'bed' 'old' 'kitchen' 'bouncer' 'way' 'door' 'rabbits'\n",
      " 'pail' 'water' 'little' 'cousin' 'came' 'said' 'hole' 'went' 'end' 'wood'\n",
      " 'inside' 'quite' 'rope' 'chair' 'half' 'gone' 'flopsy' 'family' 'did'\n",
      " 'bedroom' 'bunny' 'young' 'person' 'rocks' 'shut' 'tunnel' 'eyes' 'home'\n",
      " 'outside' 'sack' 'blanket' 'smell' 'away']\n",
      "txt/Beatrix Potter___The Tailor of Gloucester.txt\n",
      "['tailor' 'little' 'simpkin' 'illustration' 'gloucester' 'mice' 'twist'\n",
      " 'said' 'came' 'old' 'silk' 'coloured' 'mouse' 'tap' 'tip' 'coat' 'cherry'\n",
      " 'dresser' 'button' 'day' 'christmas' 'snow' 'tea' 'went' 'window' 'shop'\n",
      " 'door' 'waistcoat' 'like' 'cut' 'holes' 'away' 'poor' 'voices' 'satin'\n",
      " 'night' 'kitchen' 'table' 'run' 'quite' 'embroidered' 'house' 'morning'\n",
      " 'noises' 'lay' 'miaw' 'small' 'mew' 'cat' 'taffeta']\n",
      "txt/Beatrix Potter___The Tale of Mrs. Tittlemouse.txt\n",
      "['mrs' 'tittlemouse' 'illustration' 'jackson' 'mr' 'widdly' 'said'\n",
      " 'little' 'thank' 'honey' 'bumble' 'tiddly' 'bees' 'window' 'babbitty'\n",
      " 'feet' 'penguin' 'passage' 'got' 'hedge' 'copyright' 'moss' 'began'\n",
      " 'went' 'away' 'door' 'house' 'dirty' 'books' 'wizz' 'new' 'storeroom'\n",
      " 'spider' 'sat' 'came' 'thistle' 'teeth' 'seed' 'butterfly' 'buzz' 'clean'\n",
      " 'nut' 'day' 'dinner' 'sandy' 'round' 'parlour' 'frederick' 'pantry'\n",
      " 'marks']\n"
     ]
    }
   ],
   "source": [
    "top_topic_from_books_of_author('Beatrix Potter')"
   ]
  },
  {
   "cell_type": "code",
   "execution_count": 24,
   "metadata": {},
   "outputs": [
    {
     "name": "stdout",
     "output_type": "stream",
     "text": [
      "txt/Daniel Defoe___A True Relation of the Apparition of one Mrs. Veal.txt\n",
      "['mrs' 'bargrave' 'veal' 'says' 'said' 'death' 'time' 'story' 'told' 'mr'\n",
      " 'watson' 'did' 'brother' 'person' 'drelincourt' 'thought' 'friend' 'like'\n",
      " 'house' 'gown' 'conversation' 'life' 'apparition' 'matter' 'relation'\n",
      " 'asked' 'come' 'went' 'book' 'believe' 'thing' 'discourse' 'came' 'day'\n",
      " 'justice' 'fact' 'fits' 'gentleman' 'going' 'kinswoman' 'make' 'spirit'\n",
      " 'think' 'doubt' 'great' 'captain' 'lives' 'shall' 'till' 'world']\n",
      "txt/Daniel Defoe___The Life and Adventures of Robinson Crusoe (1808).txt\n",
      "['came' 'great' 'said' 'men' 'ship' 'did' 'little' 'time' 'shore' 'way'\n",
      " 'man' 'make' 'went' 'come' 'good' 'place' 'told' 'thing' 'boat' 'like'\n",
      " 'say' 'god' 'away' 'island' 'thought' 'having' 'things' 'sea' 'began'\n",
      " 'life' 'saw' 'day' 'took' 'knew' 'know' 'friday' 'brought' 'work' 'gave'\n",
      " 'left' 'people' 'lay' 'country' 'till' 'set' 'resolved' 'poor' 'savages'\n",
      " 'near' 'just']\n",
      "txt/Daniel Defoe___The Consolidator.txt\n",
      "['men' 'people' 'king' 'prince' 'great' 'moon' 'world' 'man' 'crolians'\n",
      " 'things' 'country' 'make' 'thing' 'solunarian' 'like' 'tis' 'right'\n",
      " 'feathers' 'time' 'way' 'nation' 'church' 'nature' 'good' 'war'\n",
      " 'solunarians' 'new' 'tho' 'engine' 'came' 'began' 'shall' 'lunar'\n",
      " 'having' 'thought' 'party' 'body' 'told' 'come' 'design' 'law' 'general'\n",
      " 'did' 'high' 'trade' 'title' 'strange' 'ruin' 'power' 'little']\n",
      "txt/Daniel Defoe___Augusta Triumphans.txt\n",
      "['make' 'public' 'good' 'ought' 'shall' 'nay' 'time' 'think' 'man' 'let'\n",
      " 'london' 'children' 'poor' 'reason' 'people' 'common' 'place' 'parents'\n",
      " 'opera' 'life' 'day' 'use' 'house' 'till' 'way' 'murder' 'means' 'honest'\n",
      " 'prevent' 'years' 'proper' 'servants' 'great' 'child' 'better' 'hospital'\n",
      " 'youth' 'houses' 'long' 'streets' 'subject' 'watchman' 'wife' 'academy'\n",
      " 'innocent' 'leave' 'set' 'design' 'college' 'wicked']\n",
      "txt/Daniel Defoe___Dickory Cronke.txt\n",
      "['shall' 'time' 'life' 'great' 'sister' 'world' 'man' 'make' 'short' 'let'\n",
      " 'good' 'mind' 'fit' 'nature' 'place' 'death' 'little' 'business' 'human'\n",
      " 'things' 'look' 'dickory' 'come' 'till' 'day' 'dumb' 'soon' 'men'\n",
      " 'papers' 'people' 'providence' 'religion' 'speech' 'observations' 'think'\n",
      " 'leave' 'believe' 'actions' 'faith' 'return' 'manner' 'born' 'lived'\n",
      " 'friends' 'left' 'person' 'public' 'reason' 'account' 'took']\n",
      "txt/Daniel Defoe___Military Memoirs of Capt. George Carleton.txt\n",
      "['earl' 'time' 'little' 'place' 'great' 'general' 'town' 'enemy' 'soon'\n",
      " 'king' 'march' 'way' 'order' 'men' 'day' 'having' 'prince' 'army' 'came'\n",
      " 'good' 'self' 'taken' '_spain_' 'took' 'did' 'make' 'duke' 'troops'\n",
      " 'orders' 'siege' 'war' 'country' 'till' 'return' 'man' '_english_' 'lay'\n",
      " 'near' '_peterborow_' 'gave' 'person' 'officers' 'thing' 'like' 'left'\n",
      " 'long' '_french_' 'reason' 'people' 'tho']\n",
      "txt/Daniel Defoe___The King of Pirates.txt\n",
      "['men' 'ship' 'great' 'good' 'came' 'shore' 'away' 'way' 'went' 'time'\n",
      " 'did' 'sloop' 'come' 'board' 'sea' 'money' 'captain' 'took' 'make'\n",
      " 'having' 'man' 'resolv' 'little' 'told' 'island' 'thing' 'rest' 'began'\n",
      " 'ships' 'sail' 'tho' 'till' 'said' 'gave' 'guns' 'carry' 'place' 'let'\n",
      " 'like' 'account' 'long' 'days' '_england_' 'got' 'coast' 'knew' 'know'\n",
      " 'world' 'left' 'set']\n",
      "txt/Daniel Defoe___A Journal of the Plague Year.txt\n"
     ]
    },
    {
     "name": "stderr",
     "output_type": "stream",
     "text": [
      "/home/ch1/anaconda3/lib/python3.7/site-packages/sklearn/decomposition/nmf.py:116: RuntimeWarning: invalid value encountered in sqrt\n",
      "  return np.sqrt(res * 2)\n"
     ]
    },
    {
     "name": "stdout",
     "output_type": "stream",
     "text": [
      "['people' 'time' 'plague' 'did' 'said' 'house' 'say' 'houses' 'great'\n",
      " 'city' 'poor' 'infected' 'came' 'come' 'dead' 'infection' 'died' 'went'\n",
      " 'man' 'sick' 'distemper' 'little' 'town' 'things' 'away' 'shall' 'parish'\n",
      " 'like' 'st' 'shut' 'london' 'began' 'way' 'till' 'god' 'streets' 'near'\n",
      " 'good' 'family' 'week' 'country' 'day' 'street' 'having' 'called' 'men'\n",
      " 'end' 'heard' 'particular' 'number']\n",
      "txt/Daniel Defoe___The Fortunes and Misfortunes of the Famous Moll Flanders.txt\n",
      "['told' 'says' 'said' 'did' 'came' 'come' 'good' 'little' 'time' 'say'\n",
      " 'great' 'went' 'house' 'way' 'know' 'things' 'knew' 'make' 'let'\n",
      " 'husband' 'money' 'woman' 'thought' 'man' 'mother' 'took' 'life' 'having'\n",
      " 'tell' 'away' 'think' 'child' 'began' 'brought' 'gave' 'called' 'thing'\n",
      " 'old' 'gentleman' 'world' 'place' 'like' 'going' 'brother' 'left' 'wife'\n",
      " 'shall' 'got' 'till' 'governess']\n",
      "txt/Daniel Defoe___The Life and Adventures of Robinson Crusoe Of York, Mariner, Vol. 1.txt\n",
      "['great' 'time' 'came' 'little' 'shore' 'did' 'boat' 'ship' 'make' 'went'\n",
      " 'way' 'place' 'come' 'sea' 'island' 'friday' 'began' 'good' 'thing' 'day'\n",
      " 'said' 'like' 'thought' 'things' 'having' 'man' 'god' 'saw' 'men' 'life'\n",
      " 'took' 'away' 'water' 'knew' 'say' 'till' 'lay' 'brought' 'told' 'near'\n",
      " 'captain' 'thoughts' 'work' 'got' 'mind' 'set' 'just' 'long' 'resolved'\n",
      " 'gave']\n",
      "txt/Daniel Defoe___An Answer to a Question that Nobody thinks of, viz., But what if the Queen should Die?.txt\n",
      "['queen' 'majesty' 'people' 'question' 'nation' 'shall' 'ministry' 'die'\n",
      " 'pretender' 'life' 'danger' 'great' 'revolution' 'public' 'make' 'time'\n",
      " 'french' 'king' 'protestant' 'present' 'things' 'church' 'right' 'war'\n",
      " 'said' 'long' 'parliament' 'throne' 'britain' 'succession' 'say' 'answer'\n",
      " 'law' 'affairs' 'men' 'peace' 'like' 'privileges' 'power' 'come'\n",
      " 'religion' 'late' 'viz' 'believe' 'just' 'crown' 'subject' 'safety'\n",
      " 'lives' 'act']\n",
      "txt/Daniel Defoe___The Life, Adventures & Piracies of the Famous Captain Singleton.txt\n",
      "['men' 'came' 'great' 'ship' 'william' 'way' 'little' 'did' 'good' 'time'\n",
      " 'thou' 'make' 'captain' 'said' 'told' 'shore' 'come' 'went' 'says' 'away'\n",
      " 'having' 'days' 'country' 'water' 'man' 'saw' 'sea' 'took' 'long' 'river'\n",
      " 'board' 'people' 'know' 'thought' 'negroes' 'began' 'provisions' 'coast'\n",
      " 'like' 'say' 'set' 'let' 'till' 'place' 'resolved' 'brought' 'knew'\n",
      " 'gold' 'gave' 'got']\n",
      "txt/Daniel Defoe___The Further Adventures of Robinson Crusoe.txt\n"
     ]
    },
    {
     "name": "stderr",
     "output_type": "stream",
     "text": [
      "/home/ch1/anaconda3/lib/python3.7/site-packages/sklearn/decomposition/nmf.py:116: RuntimeWarning: invalid value encountered in sqrt\n",
      "  return np.sqrt(res * 2)\n",
      "/home/ch1/anaconda3/lib/python3.7/site-packages/sklearn/decomposition/nmf.py:116: RuntimeWarning: invalid value encountered in sqrt\n",
      "  return np.sqrt(res * 2)\n"
     ]
    },
    {
     "name": "stdout",
     "output_type": "stream",
     "text": [
      "['men' 'came' 'ship' 'said' 'great' 'man' 'told' 'did' 'little' 'way'\n",
      " 'good' 'come' 'went' 'away' 'make' 'know' 'people' 'god' 'time' 'having'\n",
      " 'shore' 'place' 'say' 'like' 'poor' 'savages' 'thought' 'spaniards'\n",
      " 'island' 'country' 'left' 'resolved' 'things' 'old' 'brought' 'set' 'saw'\n",
      " 'gave' 'days' 'life' 'called' 'says' 'rest' 'board' 'work' 'took' 'knew'\n",
      " 'boat' 'sea' 'began']\n",
      "txt/Daniel Defoe___From London to Land's End.txt\n",
      "['town' 'great' 'good' 'country' 'large' 'house' 'england' 'place' 'sea'\n",
      " 'river' 'king' 'land' 'little' 'say' 'called' 'ships' 'trade' 'county'\n",
      " 'water' 'fine' 'people' 'way' 'time' 'church' 'like' 'come' 'miles'\n",
      " 'shore' 'came' 'near' 'said' 'city' 'west' 'end' 'family' 'london'\n",
      " 'built' 'men' 'shall' 'building' 'towns' 'old' 'court' 'poor' 'high'\n",
      " 'make' 'road' 'castle' 'south' 'famous']\n",
      "txt/Daniel Defoe___An Appeal to Honour and Justice, Though It Be of His Worst Enemies.txt\n",
      "['majesty' 'men' 'man' 'say' 'did' 'think' 'pretender' 'time' 'things'\n",
      " 'king' 'books' 'said' 'person' 'people' 'great' 'lord' 'written' 'public'\n",
      " 'shall' 'peace' 'opinion' 'protestant' 'good' 'world' 'true' 'justice'\n",
      " 'queen' 'let' 'ministry' 'case' 'succession' 'writing' 'hanover' 'design'\n",
      " 'honour' 'answer' 'make' 'reason' 'pleased' 'present' 'come' 'way' 'late'\n",
      " 'lordship' 'having' 'nation' 'thing' 'viz' 'benefactor' 'author']\n",
      "txt/Daniel Defoe___The Lay-Man's Sermon upon the Late Storm.txt\n",
      "['tis' 'men' 'god' 'moderation' 'nation' 'heaven' 'general' 'man' 'shall'\n",
      " 'church' 'say' 'people' 'way' 'power' 'let' 'peace' 'make' 'lord' 'world'\n",
      " 'self' 'text' 'judgment' 'parties' 'think' 'storm' 'persons' 'bless'\n",
      " 'tho' 'hand' 'home' '_england_' 'providence' 'storms' 'sermon' 'matter'\n",
      " 'extraordinary' 'preach' 'bring' 'time' 'crime' 'dissenters' 'enemies'\n",
      " 'like' 'present' 'tell' 'guilty' 'wind' 'late' 'plain' 'judgements']\n",
      "txt/Daniel Defoe___The History of the Devil.txt\n",
      "['_devil_' 'devil' 'world' 'god' 'say' 'great' 'man' 'time' 'did' 'make'\n",
      " 'like' 'tis' 'satan' 'know' 'thing' 'people' '_satan_' 'come' 'things'\n",
      " 'said' 'mankind' 'good' 'tho' 'power' 'shall' 'way' 'men' 'little' '_the'\n",
      " 'think' 'old' 'work' 'true' 'heaven' 'nay' 'history' 'place' 'word'\n",
      " 'nature' '_devils_' 'believe' 'tell' 'manner' 'business' 'devil_'\n",
      " 'having' 'really' 'brought' 'story' 'particular']\n",
      "txt/Daniel Defoe___Memoirs of Major Alexander Ramkins (1718).txt\n",
      "['king' 'time' '_french_' '_james_' 'self' 'make' '_france_' 'wou' 'war'\n",
      " 'gentleman' 'great' 'design' 'brother' 'person' 'way' 'money' 'account'\n",
      " 'tis' 'little' 'like' 'took' 'lady' 'cou' '_england_' 'men' 'old' 'place'\n",
      " 'day' 'look' 'army' 'occasion' 'man' 'head' 'till' 'came' 'years' 'young'\n",
      " 'em' 'said' '_paris_' 'having' 'company' 'pretender' 'good' 'saw'\n",
      " '_ireland_' 'did' 'arms' 'think' 'long']\n",
      "txt/Daniel Defoe___A Short Narrative of the Life and Actions of His Grace John, D. of Marlborogh.txt\n",
      "['defoe' 'great' 'marlborough' 'general' 'good' 'lord' 'people' 'army'\n",
      " '_the' 'duke' 'time' 'country' 'harley' 'peace' 'tis' 'war' '_french_'\n",
      " 'king' 'man' 'men' 'nation' 'queen' 'university' '_a' 'john' 'common'\n",
      " 'short' 'old' '_marlborough_' 'long' 'william' 'day' 'grace' 'honour'\n",
      " 'pay' 'life' 'forces' 'enemy' 'doubt' 'military' 'battle' '1711'\n",
      " 'courage' 'year' 'twas' 'world' 'best' 'having' 'prince' 'years']\n",
      "txt/Daniel Defoe___Tour through the Eastern Counties of England, 1722.txt\n",
      "['town' 'great' 'london' 'lord' 'river' 'called' 'good' 'say' 'country'\n",
      " 'sea' 'county' 'england' 'time' 'trade' 'place' 'said' 'people' 'sir'\n",
      " 'ships' 'come' 'fair' 'near' 'built' 'little' 'men' 'north' 'house'\n",
      " 'towns' 'large' 'like' 'way' 'suffolk' 'brought' 'day' 'water'\n",
      " 'gentlemen' 'shore' 'city' 'ancient' 'horse' 'houses' 'ipswich' 'years'\n",
      " 'land' 'sent' 'road' 'having' 'king' 'west' 'places']\n",
      "txt/Daniel Defoe___A Seasonable Warning and Caution against the Insinuations of Papists and Jacobites.txt\n",
      "['pretender' 'king' 'people' 'protestant' 'nation' 'religion' 'government'\n",
      " 'thy' 'popery' 'french' 'parliament' 'footnote' 'prince' 'popish' 'james'\n",
      " 'great' 'liberty' 'britain' 'like' 'blood' 'act' 'liberties' 'crown'\n",
      " 'ministry' 'said' 'things' 'posterity' 'country' 'hands' 'son' 'france'\n",
      " 'men' 'war' 'principles' 'protestants' 'good' 'england' 'enemies' 'party'\n",
      " 'william' 'reason' 'person' 'make' 'succession' 'father' 'thee' 'power'\n",
      " 'constitution' 'british' 'world']\n",
      "txt/Daniel Defoe___Everybody's Business is Nobody's Business.txt\n",
      "['servants' 'servant' 'shall' 'good' 'wages' 'maid' 'great' 'work' 'make'\n",
      " 'place' 'family' 'master' 'day' 'carry' 'away' 'business' 'leave' 'nay'\n",
      " 'mistress' 'gentlemen' 'dress' 'pounds' 'time' 'house' 'man' 'gentleman'\n",
      " 'little' 'madam' 'young' 'person' 'poor' 'public' 'said' 'service'\n",
      " 'sister' 'matter' 'streets' 'places' 'men' 'watermen' 'like' 'ought'\n",
      " 'annum' 'know' 'way' 'river' 'common' 'families' 'lady' 'abuse']\n",
      "txt/Daniel Defoe___An Humble Proposal to the People of England.txt\n",
      "['trade' 'wool' 'manufactures' 'people' 'manufacture' 'england' 'quantity'\n",
      " 'increase' 'great' 'consumption' 'say' 'france' 'woollen' 'english'\n",
      " 'commerce' 'nation' 'home' 'irish' 'sheep' 'work' 'ireland' 'produce'\n",
      " 'shall' 'increased' 'advantage' 'poor' 'said' 'goods' 'far' 'dutch'\n",
      " 'country' 'world' 'able' 'make' 'want' 'little' 'land' 'carried' 'time'\n",
      " 'french' 'fish' 'good' 'improve' 'reason' 'viz' 'greater' 'use' 'ships'\n",
      " 'millions' 'ought']\n",
      "txt/Daniel Defoe___And What if the Pretender should Come?.txt\n"
     ]
    },
    {
     "name": "stderr",
     "output_type": "stream",
     "text": [
      "/home/ch1/anaconda3/lib/python3.7/site-packages/sklearn/decomposition/nmf.py:116: RuntimeWarning: invalid value encountered in sqrt\n",
      "  return np.sqrt(res * 2)\n",
      "/home/ch1/anaconda3/lib/python3.7/site-packages/sklearn/decomposition/nmf.py:116: RuntimeWarning: invalid value encountered in sqrt\n",
      "  return np.sqrt(res * 2)\n"
     ]
    },
    {
     "name": "stdout",
     "output_type": "stream",
     "text": [
      "['pretender' 'nation' 'shall' 'king' 'people' 'france' 'french' 'great'\n",
      " 'power' 'advantages' 'union' 'government' 'make' 'advantage' 'prince'\n",
      " 'coming' 'say' 'britain' 'thing' 'things' 'really' 'time' 'money'\n",
      " 'little' 'person' 'world' 'come' 'greater' 'long' 'said' 'present' 'way'\n",
      " 'good' 'throne' 'formidable' 'know' 'support' 'doubt' 'country' 'happy'\n",
      " 'viz' 'true' 'case' 'england' 'effectually' 'right' 'receive' 'glorious'\n",
      " 'glory' 'able']\n",
      "txt/Daniel Defoe___A Vindication of the Press.txt\n",
      "['writing' 'writings' 'defoe' 'persons' 'author' 'person' 'great' 'world'\n",
      " 'time' 'learning' 'man' 'greatest' 'performance' 'tho' 'performances'\n",
      " 'mr' 'shall' 'general' 'good' 'poetry' 'criticism' 'age' 'authors'\n",
      " 'literature' 'press' 'essay' '_the' 'church' 'genius' '_a' 'reputation'\n",
      " 'make' 'respect' 'easy' 'education' 'year' 'liberty' 'conversation'\n",
      " 'parts' 'll' 'present' 'language' 'common' 'late' 'state' 'tis' 'way'\n",
      " 'write' 'ill' 'best']\n",
      "txt/Daniel Defoe___The True-Born Englishman.txt\n",
      "['english' 'nation' 'true' 'king' 'men' 'born' 'tis' 'did' 'good' 'great'\n",
      " 'er' 'satire' 'make' 'ry' 'englishmen' 'englishman' 'nations' 'think'\n",
      " 'god' 'does' 'ev' 'long' 'like' 'kings' 'nature' 'foreigners' 'fame'\n",
      " 'government' 'england' 'world' 'appear' 'let' 'ill' 'man' 'say' 'foreign'\n",
      " 'wine' 'makes' 'wise' 'things' 'came' 'time' 'till' 'people' 'tell'\n",
      " 'pride' 'et' 'families' 'fate' 'laws']\n",
      "txt/Daniel Defoe___Reasons against the Succession of the House of Hanover.txt\n",
      "['succession' 'king' 'pretender' 'people' 'protestant' 'nation' 'popery'\n",
      " 'hanover' 'said' 'say' 'right' 'come' 'shall' 'case' 'good' 'time'\n",
      " 'parliament' 'things' 'james' 'reason' 'queen' 'bring' 'son' 'religion'\n",
      " 'think' 'thing' 'great' 'reasons' 'french' 'successor' 'house' 'crown'\n",
      " 'abdication' 'popish' 'prince' 'brought' 'condition' 'better' 'like'\n",
      " 'make' 'ruin' 'england' 'power' 'britain' 'vomit' 'person' 'viz' 'having'\n",
      " 'let' 'just']\n",
      "txt/Daniel Defoe___An Essay Upon Projects.txt\n",
      "['shall' 'pounds' 'man' 'men' 'money' 'great' 'make' 'time' '000' 'pay'\n",
      " 'public' 'office' 'said' 'work' 'stock' 'like' 'bank' 'good' 'trade'\n",
      " 'goods' 'world' 'people' 'house' 'war' 'king' 'way' 'charge' 'persons'\n",
      " 'years' 'year' 'kingdom' 'think' 'poor' 'seamen' 'want' 'paid' 'general'\n",
      " '500' 'say' 'come' 'little' 'merchant' 'allowed' 'land' 'act' 'college'\n",
      " 'new' 'age' 'account' 'law']\n",
      "txt/Daniel Defoe___The Fortunate Mistress (Parts 1 and 2).txt\n"
     ]
    },
    {
     "name": "stderr",
     "output_type": "stream",
     "text": [
      "/home/ch1/anaconda3/lib/python3.7/site-packages/sklearn/decomposition/nmf.py:116: RuntimeWarning: invalid value encountered in sqrt\n",
      "  return np.sqrt(res * 2)\n"
     ]
    },
    {
     "name": "stdout",
     "output_type": "stream",
     "text": [
      "['amy' 'said' 'says' 'did' 'told' 'came' 'say' 'time' 'come' 'know'\n",
      " 'little' 'good' 'went' 'knew' 'great' 'woman' 'make' 'thought' 'husband'\n",
      " 'house' 'way' 'let' 'quaker' 'things' 'man' 'lady' 'lord' 'like' 'girl'\n",
      " 'life' 'world' 'took' 'shall' 'think' 'gave' 'lived' 'money' 'away'\n",
      " 'gone' 'children' 'began' 'having' 'gentleman' 'poor' 'kind' 'called'\n",
      " 'years' 'child' 'wife' 'mother']\n",
      "txt/Daniel Defoe___The Life and Adventures of Robinson Crusoe.txt\n",
      "['great' 'came' 'time' 'little' 'shore' 'did' 'boat' 'ship' 'make' 'went'\n",
      " 'way' 'place' 'come' 'island' 'began' 'friday' 'sea' 'good' 'day' 'said'\n",
      " 'thought' 'things' 'like' 'god' 'having' 'man' 'saw' 'men' 'water' 'away'\n",
      " 'took' 'life' 'knew' 'say' 'till' 'lay' 'told' 'brought' 'got' 'thoughts'\n",
      " 'captain' 'near' 'work' 'set' 'gave' 'mind' 'just' 'resolved' 'long'\n",
      " 'left']\n",
      "txt/Daniel Defoe___The Life and Most Surprising Adventures of Robinson Crusoe.txt\n",
      "['great' 'time' 'said' 'men' 'came' 'did' 'man' 'ship' 'god' 'make'\n",
      " 'little' 'having' 'good' 'island' 'friday' 'boat' 'life' 'place' 'took'\n",
      " 'like' 'shore' 'day' 'way' 'sea' 'thought' 'long' 'poor' 'till' 'savages'\n",
      " 'perceived' 'went' 'come' 'away' 'manner' 'thing' 'told' 'things' 'old'\n",
      " 'gave' 'night' 'captain' 'water' 'work' 'set' 'board' 'lay' 'brought'\n",
      " 'country' 'rest' 'let']\n",
      "txt/Daniel Defoe___The Complete English Tradesman (1839 ed.).txt\n",
      "['tradesman' 'trade' 'business' 'man' 'time' 'goods' 'say' 'money'\n",
      " 'credit' 'tradesmen' 'shop' 'good' 'make' 'like' 'great' 'thing' 'let'\n",
      " 'know' 'things' 'way' 'people' 'case' 'come' 'shall' 'stock' 'men' 'does'\n",
      " 'said' 'pay' 'master' 'world' 'little' 'did' 'ought' 'england' 'honest'\n",
      " 'think' 'family' 'creditors' 'books' 'young' 'hand' 'comes' 'just'\n",
      " 'bills' 'partner' 'true' 'wife' 'away' 'house']\n",
      "txt/Daniel Defoe___Of Captain Mission.txt\n",
      "['men' 'captain' '_misson_' 'ship' 'board' 'time' 'misson' 'great'\n",
      " '_victoire_' 'man' 'did' 'gave' 'defoe' '_english_' 'make' '_french_'\n",
      " '_caraccioli_' 'return' 'crew' 'em' 'hands' 'prisoners' '_johanna_'\n",
      " 'good' 'number' 'took' 'guns' 'life' 'way' 'days' 'ships' 'war' 'having'\n",
      " 'told' 'came' 'sent' 'prize' 'liberty' 'little' '_dutch_' 'went' 'set'\n",
      " 'coast' 'answer' 'lost' 'religion' 'resolved' 'thing' 'island' 'king']\n",
      "txt/Daniel Defoe___History of the Plague in London.txt\n"
     ]
    },
    {
     "name": "stderr",
     "output_type": "stream",
     "text": [
      "/home/ch1/anaconda3/lib/python3.7/site-packages/sklearn/decomposition/nmf.py:116: RuntimeWarning: invalid value encountered in sqrt\n",
      "  return np.sqrt(res * 2)\n"
     ]
    },
    {
     "name": "stdout",
     "output_type": "stream",
     "text": [
      "['people' 'plague' 'time' 'said' 'did' 'say' 'great' 'city' 'house' 'came'\n",
      " 'infected' 'houses' 'poor' 'come' 'infection' 'went' 'dead' 'died' 'man'\n",
      " 'london' 'sick' 'st' 'distemper' 'little' 'parish' 'town' 'shall' 'away'\n",
      " 'things' 'good' 'began' 'like' 'way' 'streets' 'country' 'week' 'till'\n",
      " 'god' 'called' 'near' 'day' 'shut' 'family' 'street' 'having' 'end' 'men'\n",
      " 'place' 'heard' 'says']\n",
      "txt/Daniel Defoe___Memoirs of a Cavalier.txt\n",
      "['king' 'horse' 'men' 'army' 'enemy' 'great' 'foot' 'parliament' 'sir'\n",
      " 'came' 'having' 'time' 'war' 'town' 'majesty' 'scots' 'did' 'prince'\n",
      " 'general' 'party' 'day' 'country' 'left' 'good' 'like' 'dragoons' 'come'\n",
      " 'sent' 'gave' 'way' 'got' 'fight' 'duke' 'march' 'says' 'took' 'saw'\n",
      " 'taken' 'little' 'told' 'man' 'thought' 'till' 'began' 'battle' 'away'\n",
      " 'soldiers' 'make' 'brought' 'went']\n",
      "txt/Daniel Defoe___Atalantis Major.txt\n",
      "['great' 'island' 'country' 'men' 'prince' 'harley' 'defoe' 'major_'\n",
      " 'general' 'nobility' '_atalantis' 'queen' 'like' 'election' 'earl' 'man'\n",
      " 'argyll' 'godolphin' '1710' 'party' 'honour' 'peers' 'army' 'people'\n",
      " 'having' 'lords' 'new' 'council' 'duke' 'commander' 'come' 'lord' 'house'\n",
      " 'ministry' 'place' '_greeniccio_' 'used' 'tory' 'time' 'command' 'shall'\n",
      " 'persons' 'did' 'page' 'marlborough' 'world' 'whig' 'thought' 'north'\n",
      " 'war']\n",
      "txt/Daniel Defoe___The History of the Remarkable Life of John Sheppard.txt\n"
     ]
    },
    {
     "name": "stderr",
     "output_type": "stream",
     "text": [
      "/home/ch1/anaconda3/lib/python3.7/site-packages/sklearn/decomposition/nmf.py:116: RuntimeWarning: invalid value encountered in sqrt\n",
      "  return np.sqrt(res * 2)\n"
     ]
    },
    {
     "name": "stdout",
     "output_type": "stream",
     "text": [
      "['mr' '_sheppard_' 'house' 'having' 's_' 'came' 'escape' '_newgate_'\n",
      " 'time' 'night' 'man' 'great' 'said' 'went' 'near' 'way' 'taken' 'lane_'\n",
      " 'door' 'people' 'took' 'day' 'soon' 'breaking' 'did' 'got' 'hold'\n",
      " 'keepers' 'shop' 'master' '_page_' '_william' 'till' 'condemn' 'justice'\n",
      " 'prisoner' 'open' 'committed' 'make' '_new' 'goods' 'bess_' 'manner'\n",
      " 'value' '_edgworth' '_blewskin_' 'town' 'brought' 'sheppard_' 'thought']\n",
      "txt/Daniel Defoe___Second Thoughts are Best.txt\n",
      "['let' 'watchman' 'public' 'street' 'shall' 'houses' 'poor' 'scheme'\n",
      " 'king' 'ought' 'majesty' 'price' 'reason' 'little' 'people' 'subject'\n",
      " 'time' 'man' 'honest' 'good' 'thieves' 'gentleman' 'london' 'driver'\n",
      " 'way' 'watch' 'men' 'candles' 'make' 'work' 'taken' 'project' 'robberies'\n",
      " 'say' 'money' 'manner' 'trade' 'city' 'court' 'thoughts' 'geneva' 'think'\n",
      " 'streets' 'government' 'rogues' 'robbers' 'persons' 'number' 'abuse'\n",
      " 'light']\n",
      "txt/Daniel Defoe___The History of the Life and Adventures of Mr. Duncan Campbell.txt\n",
      "['mr' 'campbell' 'man' 'time' 'men' 'great' 'shall' 'good' 'things'\n",
      " 'persons' 'little' 'like' 'second' 'told' 'sight' 'make' 'having' 'life'\n",
      " 'said' 'way' 'know' 'came' 'person' 'duncan' 'say' 'day' 'manner'\n",
      " 'natural' 'reason' 'kind' 'lady' 'spirits' 'nature' 'thought' 'tell'\n",
      " 'come' 'magic' 'did' 'book' 'brought' 'art' 'sir' 'thing' 'seen'\n",
      " 'learned' 'people' 'dumb' 'mind' 'spirit' 'years']\n",
      "txt/Daniel Defoe___A New Voyage Round the World by a Course Never Sailed Before.txt\n",
      "['men' 'came' 'great' 'shore' 'ship' 'way' 'little' 'did' 'good' 'come'\n",
      " 'country' 'went' 'water' 'south' 'told' 'said' 'gold' 'time' 'captain'\n",
      " 'make' 'away' 'having' 'board' 'river' 'east' 'days' 'brought' 'place'\n",
      " 'voyage' 'like' 'took' 'saw' 'people' 'day' 'gave' 'land' 'thought' 'man'\n",
      " 'north' 'sea' 'say' 'ships' 'things' 'till' 'farther' 'boat' 'knew' 'new'\n",
      " 'mountains' 'large']\n"
     ]
    }
   ],
   "source": [
    "top_topic_from_books_of_author('Daniel Defoe')"
   ]
  },
  {
   "cell_type": "code",
   "execution_count": 25,
   "metadata": {},
   "outputs": [
    {
     "name": "stdout",
     "output_type": "stream",
     "text": [
      "txt/Jane Austen___Pride and Prejudice.txt\n",
      "['mr' 'elizabeth' 'darcy' 'said' 'mrs' 'bennet' 'bingley' 'jane' 'miss'\n",
      " 'did' 'know' 'sister' 'soon' 'think' 'time' 'good' 'wickham' 'lady'\n",
      " 'little' 'collins' 'lydia' 'make' 'shall' 'say' 'dear' 'family' 'man'\n",
      " 'room' 'day' 'great' 'mother' 'father' 'young' 'catherine' 'hope' 'away'\n",
      " 'letter' 'long' 'friend' 'thought' 'way' 'house' 'replied' 'saw' 'sure'\n",
      " 'felt' 'gardiner' 'wish' 'manner' 'lizzy']\n",
      "txt/Jane Austen___Northanger Abbey.txt\n",
      "['catherine' 'tilney' 'miss' 'said' 'mrs' 'did' 'mr' 'isabella' 'general'\n",
      " 'time' 'know' 'morland' 'thorpe' 'room' 'allen' 'think' 'good' 'henry'\n",
      " 'brother' 'say' 'friend' 'young' 'little' 'thought' 'sure' 'great' 'day'\n",
      " 'soon' 'like' 'father' 'man' 'away' 'dear' 'quite' 'shall' 'moment'\n",
      " 'bath' 'having' 'eleanor' 'oh' 'long' 'heart' 'make' 'yes' 'way' 'just'\n",
      " 'world' 'look' 'house' 'morning']\n",
      "txt/Jane Austen___Persuasion.txt\n",
      "['anne' 'captain' 'mrs' 'elliot' 'mr' 'wentworth' 'lady' 'good' 'little'\n",
      " 'said' 'charles' 'did' 'time' 'sir' 'think' 'russell' 'walter' 'mary'\n",
      " 'man' 'great' 'musgrove' 'know' 'miss' 'soon' 'father' 'quite' 'louisa'\n",
      " 'bath' 'long' 'house' 'say' 'having' 'thought' 'elizabeth' 'make'\n",
      " 'better' 'place' 'young' 'home' 'friend' 'sister' 'room' 'like' 'felt'\n",
      " 'family' 'way' 'away' 'day' 'uppercross' 'harville']\n",
      "txt/Jane Austen___Emma.txt\n",
      "['mr' 'emma' 'mrs' 'miss' 'harriet' 'said' 'weston' 'thing' 'knightley'\n",
      " 'elton' 'think' 'little' 'good' 'did' 'know' 'woodhouse' 'say' 'jane'\n",
      " 'quite' 'time' 'great' 'fairfax' 'dear' 'man' 'thought' 'churchill'\n",
      " 'soon' 'shall' 'frank' 'father' 'sure' 'like' 'oh' 'body' 'day' 'young'\n",
      " 'friend' 'better' 'come' 'just' 'hartfield' 'way' 'really' 'make' 'bates'\n",
      " 'having' 'long' 'hope' 'away' 'poor']\n",
      "txt/Jane Austen___Mansfield Park.txt\n",
      "['fanny' 'crawford' 'mr' 'miss' 'edmund' 'mrs' 'said' 'sir' 'think'\n",
      " 'thomas' 'good' 'time' 'little' 'did' 'bertram' 'know' 'soon' 'rushworth'\n",
      " 'say' 'norris' 'quite' 'great' 'sister' 'thought' 'like' 'shall' 'lady'\n",
      " 'mansfield' 'room' 'house' 'make' 'day' 'having' 'felt' 'dear' 'away'\n",
      " 'long' 'young' 'mind' 'better' 'grant' 'feelings' 'william' 'way' 'home'\n",
      " 'aunt' 'hope' 'man' 'moment' 'half']\n",
      "txt/Jane Austen___Sense and Sensibility.txt\n",
      "['elinor' 'marianne' 'mrs' 'said' 'sister' 'edward' 'mother' 'dashwood'\n",
      " 'did' 'time' 'jennings' 'know' 'willoughby' 'miss' 'think' 'lucy' 'thing'\n",
      " 'soon' 'mr' 'good' 'colonel' 'john' 'house' 'say' 'little' 'day' 'great'\n",
      " 'brandon' 'lady' 'make' 'sure' 'ferrars' 'shall' 'heart' 'man' 'sir'\n",
      " 'room' 'dear' 'thought' 'saw' 'away' 'felt' 'long' 'young' 'middleton'\n",
      " 'come' 'replied' 'happy' 'mind' 'moment']\n",
      "txt/Jane Austen___Lady Susan.txt\n",
      "['lady' 'vernon' 'susan' 'frederica' 'reginald' 'mr' 'mother' 'sir' 'know'\n",
      " 'mrs' 'shall' 'dear' 'james' 'courcy' 'churchhill' 'make' 'mainwaring'\n",
      " 'daughter' 'soon' 'time' 'johnson' 'letter' 'man' 'little' 'miss' 'great'\n",
      " 'brother' 'good' 'did' 'girl' 'think' 'sister' 'wish' 'hope' 'heart'\n",
      " 'said' 'town' 'woman' 'young' 'long' 'say' 'london' 'feelings' 'room'\n",
      " 'believe' 'present' 'sure' 'having' 'family' 'street']\n",
      "txt/Jane Austen___Love And Freindship And Other Early Works.txt\n",
      "['said' 'lady' 'dear' 'father' 'did' 'mother' 'letter' 'time' 'miss'\n",
      " 'know' 'edward' 'love' 'sir' 'having' 'tho' 'replied' 'think' 'sophia'\n",
      " 'shall' 'laura' 'great' 'lesley' 'young' 'freind' 'say' 'little'\n",
      " 'amiable' 'day' 'good' 'oh' 'brother' 'house' 'henry' 'life' 'left'\n",
      " 'long' 'matilda' 'soon' 'married' 'man' 'charlotte' 'affection' 'room'\n",
      " 'woman' 'mr' 'daughter' 'world' 'make' 'mrs' 'suppose']\n"
     ]
    },
    {
     "name": "stderr",
     "output_type": "stream",
     "text": [
      "/home/ch1/anaconda3/lib/python3.7/site-packages/sklearn/decomposition/nmf.py:116: RuntimeWarning: invalid value encountered in sqrt\n",
      "  return np.sqrt(res * 2)\n"
     ]
    }
   ],
   "source": [
    "top_topic_from_books_of_author('Jane Austen')"
   ]
  },
  {
   "cell_type": "code",
   "execution_count": 26,
   "metadata": {},
   "outputs": [],
   "source": [
    "from sklearn.cluster import KMeans\n",
    "import re\n",
    "\n",
    "# import matplotlib.pyplot as plt\n",
    "# %matplotlib inline"
   ]
  },
  {
   "cell_type": "markdown",
   "metadata": {},
   "source": [
    "http://jonathansoma.com/lede/algorithms-2017/classes/clustering/k-means-clustering-with-scikit-learn/"
   ]
  },
  {
   "cell_type": "code",
   "execution_count": 27,
   "metadata": {},
   "outputs": [],
   "source": [
    "def clustering_of_words_from_books_of_author(author_name1, author_name2):\n",
    "    #author_files = \n",
    "    texts = []\n",
    "    print('Author 1 ' + author_name1)\n",
    "    nbooks = 0\n",
    "    \n",
    "    for filename in glob.glob(PATH_TO_TXT+author_name1+'*'):\n",
    "        print(filename)\n",
    "        \n",
    "        with open(filename) as f:\n",
    "            text = ''.join(f.readlines())\n",
    "        texts.append(text)\n",
    "        nbooks +=1\n",
    "        \n",
    "    print(nbooks)    \n",
    "    print('Author 2 ' + author_name2) \n",
    "    nbooks = 0\n",
    "    \n",
    "    for filename in glob.glob(PATH_TO_TXT+author_name2+'*'):\n",
    "        print(filename)\n",
    "        \n",
    "        with open(filename) as f:\n",
    "            text = ''.join(f.readlines())\n",
    "        texts.append(text)\n",
    "        nbooks +=1\n",
    "        \n",
    "    print(nbooks)\n",
    "    \n",
    "    #print(len(texts))   \n",
    "    #https://stackoverflow.com/questions/51643427/how-to-make-tfidfvectorizer-only-learn-alphabetical-characters-as-part-of-the-vo\n",
    "    vectorizer = TfidfVectorizer(max_features=1000, stop_words='english', max_df=.9, min_df=2, \n",
    "                                 token_pattern=r'\\b[A-Za-z]+\\b')\n",
    "    vect = vectorizer.fit_transform(texts)\n",
    "#     Nc = range(1, 8)\n",
    "#     kmeans = [MiniBatchKMeans(n_clusters=i) for i in Nc]\n",
    "#     score = [kmeans[i].fit(vect).score(vect) for i in range(len(kmeans))]\n",
    "\n",
    "#     plt.plot(Nc,score)\n",
    "#     plt.xlabel('Number of Clusters')\n",
    "#     plt.ylabel('Score')\n",
    "#     plt.title('Elbow Curve')\n",
    "#     plt.show()\n",
    "    mkmeans = KMeans(n_clusters=2, random_state=2)\n",
    "    mkmeans.fit(vect)\n",
    "    clusters = mkmeans.predict(vect)\n",
    "    print('Clusters {}'.format(clusters))\n",
    "    #print(mkmeans.labels_)\n",
    "    #print(mkmeans.cluster_centers_.argsort()[::-1])\n",
    "    for idx, cluster_top_word_indexes in enumerate(mkmeans.cluster_centers_.argsort()[::-1]):\n",
    "        print('Words in Cluster {}'.format(idx))\n",
    "        print(np.array(vectorizer.get_feature_names())[cluster_top_word_indexes][:20])"
   ]
  },
  {
   "cell_type": "code",
   "execution_count": 28,
   "metadata": {},
   "outputs": [
    {
     "name": "stdout",
     "output_type": "stream",
     "text": [
      "Author 1 Daniel Defoe\n",
      "txt/Daniel Defoe___A True Relation of the Apparition of one Mrs. Veal.txt\n",
      "txt/Daniel Defoe___The Life and Adventures of Robinson Crusoe (1808).txt\n",
      "txt/Daniel Defoe___The Consolidator.txt\n",
      "txt/Daniel Defoe___Augusta Triumphans.txt\n",
      "txt/Daniel Defoe___Dickory Cronke.txt\n",
      "txt/Daniel Defoe___Military Memoirs of Capt. George Carleton.txt\n",
      "txt/Daniel Defoe___The King of Pirates.txt\n",
      "txt/Daniel Defoe___A Journal of the Plague Year.txt\n",
      "txt/Daniel Defoe___The Fortunes and Misfortunes of the Famous Moll Flanders.txt\n",
      "txt/Daniel Defoe___The Life and Adventures of Robinson Crusoe Of York, Mariner, Vol. 1.txt\n",
      "txt/Daniel Defoe___An Answer to a Question that Nobody thinks of, viz., But what if the Queen should Die?.txt\n",
      "txt/Daniel Defoe___The Life, Adventures & Piracies of the Famous Captain Singleton.txt\n",
      "txt/Daniel Defoe___The Further Adventures of Robinson Crusoe.txt\n",
      "txt/Daniel Defoe___From London to Land's End.txt\n",
      "txt/Daniel Defoe___An Appeal to Honour and Justice, Though It Be of His Worst Enemies.txt\n",
      "txt/Daniel Defoe___The Lay-Man's Sermon upon the Late Storm.txt\n",
      "txt/Daniel Defoe___The History of the Devil.txt\n",
      "txt/Daniel Defoe___Memoirs of Major Alexander Ramkins (1718).txt\n",
      "txt/Daniel Defoe___A Short Narrative of the Life and Actions of His Grace John, D. of Marlborogh.txt\n",
      "txt/Daniel Defoe___Tour through the Eastern Counties of England, 1722.txt\n",
      "txt/Daniel Defoe___A Seasonable Warning and Caution against the Insinuations of Papists and Jacobites.txt\n",
      "txt/Daniel Defoe___Everybody's Business is Nobody's Business.txt\n",
      "txt/Daniel Defoe___An Humble Proposal to the People of England.txt\n",
      "txt/Daniel Defoe___And What if the Pretender should Come?.txt\n",
      "txt/Daniel Defoe___A Vindication of the Press.txt\n",
      "txt/Daniel Defoe___The True-Born Englishman.txt\n",
      "txt/Daniel Defoe___Reasons against the Succession of the House of Hanover.txt\n",
      "txt/Daniel Defoe___An Essay Upon Projects.txt\n",
      "txt/Daniel Defoe___The Fortunate Mistress (Parts 1 and 2).txt\n",
      "txt/Daniel Defoe___The Life and Adventures of Robinson Crusoe.txt\n",
      "txt/Daniel Defoe___The Life and Most Surprising Adventures of Robinson Crusoe.txt\n",
      "txt/Daniel Defoe___The Complete English Tradesman (1839 ed.).txt\n",
      "txt/Daniel Defoe___Of Captain Mission.txt\n",
      "txt/Daniel Defoe___History of the Plague in London.txt\n",
      "txt/Daniel Defoe___Memoirs of a Cavalier.txt\n",
      "txt/Daniel Defoe___Atalantis Major.txt\n",
      "txt/Daniel Defoe___The History of the Remarkable Life of John Sheppard.txt\n",
      "txt/Daniel Defoe___Second Thoughts are Best.txt\n",
      "txt/Daniel Defoe___The History of the Life and Adventures of Mr. Duncan Campbell.txt\n",
      "txt/Daniel Defoe___A New Voyage Round the World by a Course Never Sailed Before.txt\n",
      "40\n",
      "Author 2 Beatrix Potter\n",
      "txt/Beatrix Potter___The Great Big Treasury of Beatrix Potter.txt\n",
      "txt/Beatrix Potter___The Tale of Jemima Puddle-Duck.txt\n",
      "txt/Beatrix Potter___The Tale of Timmy Tiptoes.txt\n",
      "txt/Beatrix Potter___The Tale of the Flopsy Bunnies.txt\n",
      "txt/Beatrix Potter___The Tale of Mrs. Tiggy-Winkle.txt\n",
      "txt/Beatrix Potter___The Tale of Samuel Whiskers.txt\n",
      "txt/Beatrix Potter___The Tale of the Pie and the Patty Pan.txt\n",
      "txt/Beatrix Potter___The Story of Miss Moppet.txt\n",
      "txt/Beatrix Potter___The Tale Of Benjamin Bunny.txt\n",
      "txt/Beatrix Potter___The Tale of Ginger and Pickles.txt\n",
      "txt/Beatrix Potter___A Collection of Beatrix Potter Stories.txt\n",
      "txt/Beatrix Potter___The Tale of Tom Kitten.txt\n",
      "txt/Beatrix Potter___The Tale Of Peter Rabbit.txt\n",
      "txt/Beatrix Potter___The Tale of Mr. Jeremy Fisher.txt\n",
      "txt/Beatrix Potter___Cecily Parsley's Nursery Rhymes.txt\n",
      "txt/Beatrix Potter___The Tale of Johnny Town-Mouse.txt\n",
      "txt/Beatrix Potter___The Tale of Squirrel Nutkin.txt\n",
      "txt/Beatrix Potter___The Tale of Mr. Tod.txt\n",
      "txt/Beatrix Potter___The Tailor of Gloucester.txt\n",
      "txt/Beatrix Potter___The Tale of Mrs. Tittlemouse.txt\n",
      "20\n",
      "Clusters [0 0 0 0 0 0 0 0 0 0 0 0 0 0 0 0 0 0 0 0 0 0 0 0 0 0 0 0 0 0 0 0 0 0 0 0 0\n",
      " 0 0 0 1 1 1 1 0 1 1 1 1 1 1 1 1 0 1 0 1 1 1 1]\n",
      "Words in Cluster 0\n",
      "['likewise' 'heart' 'spirit' 'spirits' 'hardly' 'happy' 'st' 'happen'\n",
      " 'state' 'habitation' 'guns' 'guide' 'guard' 'heat' 'grave' 'government'\n",
      " 'gotten' 'storm' 'god' 'goats']\n",
      "Words in Cluster 1\n",
      "['pigling' 'ribby' 'tod' 'illustration' 'duchess' 'benjamin' 'window'\n",
      " 'tom' 'dog' 'replied' 'inside' 'glass' 'takes' 'threw' 'clock' 'drew'\n",
      " 'talking' 'gotten' 'satan' 'arrived']\n"
     ]
    }
   ],
   "source": [
    "clustering_of_words_from_books_of_author('Daniel Defoe', 'Beatrix Potter')"
   ]
  },
  {
   "cell_type": "code",
   "execution_count": 29,
   "metadata": {},
   "outputs": [],
   "source": [
    "from sklearn.svm import SVC\n",
    "from sklearn.metrics import classification_report"
   ]
  },
  {
   "cell_type": "code",
   "execution_count": 30,
   "metadata": {},
   "outputs": [],
   "source": [
    "def text_classification_author(author_name1, author_name2):\n",
    "    #author_files = \n",
    "    texts = []\n",
    "    print('Author 1 ' + author_name1)\n",
    "    nbooks = 0\n",
    "    labels_author_1 = []\n",
    "    for filename in glob.glob(PATH_TO_TXT+author_name1+'*'):\n",
    "        #print(filename)\n",
    "        \n",
    "        with open(filename) as f:\n",
    "            text = ''.join(f.readlines())\n",
    "        texts.append(text)\n",
    "        nbooks +=1\n",
    "        labels_author_1.append(0)\n",
    "    print(nbooks)    \n",
    "    print('Author 2 ' + author_name2) \n",
    "    nbooks = 0\n",
    "    labels_author_2 = []\n",
    "    for filename in glob.glob(PATH_TO_TXT+author_name2+'*'):\n",
    "        #print(filename)\n",
    "        \n",
    "        with open(filename) as f:\n",
    "            text = ''.join(f.readlines())\n",
    "        texts.append(text)\n",
    "        nbooks +=1\n",
    "        labels_author_2.append(1)\n",
    "    print(nbooks)\n",
    "    labels_author_1.extend(labels_author_2)\n",
    "    print(labels_author_1)\n",
    "    #print(len(texts))   \n",
    "    #https://stackoverflow.com/questions/51643427/how-to-make-tfidfvectorizer-only-learn-alphabetical-characters-as-part-of-the-vo\n",
    "    vectorizer = TfidfVectorizer(max_features=1000, stop_words='english', max_df=.9, min_df=2, \n",
    "                                 token_pattern=r'\\b[A-Za-z]+\\b')\n",
    "    vect = vectorizer.fit_transform(texts)\n",
    "\n",
    "    svc_classifier = SVC()\n",
    "    svc_classifier.fit(vect, labels_author_1)\n",
    "    classes = svc_classifier.predict(vect)\n",
    "    print('Predicted Classes {}'.format(classes))\n",
    "    \n",
    "    from sklearn.model_selection import GridSearchCV\n",
    "    parameters = {'kernel':('linear', 'rbf'), 'C':[1, 10]}\n",
    "    clf = GridSearchCV(svc_classifier, parameters, refit=True)\n",
    "    clf.fit(vect, labels_author_1)\n",
    "    #mkmeans.fit(vect)\n",
    "    classes = clf.predict(vect)\n",
    "    print('Predicted Classes {}'.format(classes))\n",
    "    print(classification_report(labels_author_1, classes))\n",
    "    "
   ]
  },
  {
   "cell_type": "code",
   "execution_count": 31,
   "metadata": {},
   "outputs": [
    {
     "name": "stdout",
     "output_type": "stream",
     "text": [
      "Author 1 Daniel Defoe\n",
      "40\n",
      "Author 2 Beatrix Potter\n",
      "20\n",
      "[0, 0, 0, 0, 0, 0, 0, 0, 0, 0, 0, 0, 0, 0, 0, 0, 0, 0, 0, 0, 0, 0, 0, 0, 0, 0, 0, 0, 0, 0, 0, 0, 0, 0, 0, 0, 0, 0, 0, 0, 1, 1, 1, 1, 1, 1, 1, 1, 1, 1, 1, 1, 1, 1, 1, 1, 1, 1, 1, 1]\n",
      "Predicted Classes [0 0 0 0 0 0 0 0 0 0 0 0 0 0 0 0 0 0 0 0 0 0 0 0 0 0 0 0 0 0 0 0 0 0 0 0 0\n",
      " 0 0 0 0 0 0 0 0 0 0 0 0 0 0 0 0 0 0 0 0 0 0 0]\n",
      "Predicted Classes [0 0 0 0 0 0 0 0 0 0 0 0 0 0 0 0 0 0 0 0 0 0 0 0 0 0 0 0 0 0 0 0 0 0 0 0 0\n",
      " 0 0 0 1 1 1 1 1 1 1 1 1 1 1 1 1 1 1 1 1 1 1 1]\n",
      "              precision    recall  f1-score   support\n",
      "\n",
      "           0       1.00      1.00      1.00        40\n",
      "           1       1.00      1.00      1.00        20\n",
      "\n",
      "   micro avg       1.00      1.00      1.00        60\n",
      "   macro avg       1.00      1.00      1.00        60\n",
      "weighted avg       1.00      1.00      1.00        60\n",
      "\n"
     ]
    },
    {
     "name": "stderr",
     "output_type": "stream",
     "text": [
      "/home/ch1/anaconda3/lib/python3.7/site-packages/sklearn/svm/base.py:196: FutureWarning: The default value of gamma will change from 'auto' to 'scale' in version 0.22 to account better for unscaled features. Set gamma explicitly to 'auto' or 'scale' to avoid this warning.\n",
      "  \"avoid this warning.\", FutureWarning)\n",
      "/home/ch1/anaconda3/lib/python3.7/site-packages/sklearn/model_selection/_split.py:2053: FutureWarning: You should specify a value for 'cv' instead of relying on the default value. The default value will change from 3 to 5 in version 0.22.\n",
      "  warnings.warn(CV_WARNING, FutureWarning)\n",
      "/home/ch1/anaconda3/lib/python3.7/site-packages/sklearn/svm/base.py:196: FutureWarning: The default value of gamma will change from 'auto' to 'scale' in version 0.22 to account better for unscaled features. Set gamma explicitly to 'auto' or 'scale' to avoid this warning.\n",
      "  \"avoid this warning.\", FutureWarning)\n",
      "/home/ch1/anaconda3/lib/python3.7/site-packages/sklearn/model_selection/_search.py:841: DeprecationWarning: The default of the `iid` parameter will change from True to False in version 0.22 and will be removed in 0.24. This will change numeric results when test-set sizes are unequal.\n",
      "  DeprecationWarning)\n"
     ]
    }
   ],
   "source": [
    "text_classification_author('Daniel Defoe', 'Beatrix Potter')"
   ]
  },
  {
   "cell_type": "code",
   "execution_count": null,
   "metadata": {},
   "outputs": [],
   "source": []
  }
 ],
 "metadata": {
  "kernelspec": {
   "display_name": "Python 3",
   "language": "python",
   "name": "python3"
  },
  "language_info": {
   "codemirror_mode": {
    "name": "ipython",
    "version": 3
   },
   "file_extension": ".py",
   "mimetype": "text/x-python",
   "name": "python",
   "nbconvert_exporter": "python",
   "pygments_lexer": "ipython3",
   "version": "3.7.3"
  }
 },
 "nbformat": 4,
 "nbformat_minor": 2
}
